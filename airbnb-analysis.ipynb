{
 "cells": [
  {
   "cell_type": "code",
   "execution_count": 329,
   "metadata": {},
   "outputs": [],
   "source": [
    "import pandas as pd\n",
    "import numpy as np\n",
    "import datetime\n",
    "import seaborn as sns\n",
    "from matplotlib import pyplot as plt\n",
    "%matplotlib inline\n",
    "pd.options.display.max_colwidth = 1000\n",
    "pd.options.display.max_columns = 1000\n",
    "\n",
    "def lineplot(df, x, y, xlabel=None, ylabel=None, title=None):\n",
    "    \"\"\"Creates a line plot from the datafram `df` using columns specified by x and y.\"\"\"\n",
    "    ax = df.plot(x, y)\n",
    "    ax.set_xlabel(xlabel)\n",
    "    ax.set_ylabel(ylabel)\n",
    "    ax.set_title(title)\n",
    "    ax.grid(True)\n",
    "    return ax\n",
    "\n",
    "def priceAsFloat(series):\n",
    "    \"\"\"Converts dollar values into float values.\"\"\"\n",
    "    return series.replace('[\\$,]', '', regex=True).astype(float)\n",
    "\n",
    "def plotCorrelationMatrix(df):\n",
    "    \"\"\"Plot correlation matrix\"\"\"\n",
    "    sns.heatmap(df.corr(), annot=True, fmt=\".2f\")"
   ]
  },
  {
   "cell_type": "markdown",
   "metadata": {
    "collapsed": true
   },
   "source": [
    "# What is the busiest month?\n",
    "Let's take a look at the availability data in `calendar.csv`"
   ]
  },
  {
   "cell_type": "code",
   "execution_count": 2,
   "metadata": {},
   "outputs": [
    {
     "data": {
      "text/html": [
       "<div>\n",
       "<style scoped>\n",
       "    .dataframe tbody tr th:only-of-type {\n",
       "        vertical-align: middle;\n",
       "    }\n",
       "\n",
       "    .dataframe tbody tr th {\n",
       "        vertical-align: top;\n",
       "    }\n",
       "\n",
       "    .dataframe thead th {\n",
       "        text-align: right;\n",
       "    }\n",
       "</style>\n",
       "<table border=\"1\" class=\"dataframe\">\n",
       "  <thead>\n",
       "    <tr style=\"text-align: right;\">\n",
       "      <th></th>\n",
       "      <th>listing_id</th>\n",
       "      <th>date</th>\n",
       "      <th>available</th>\n",
       "      <th>price</th>\n",
       "    </tr>\n",
       "  </thead>\n",
       "  <tbody>\n",
       "    <tr>\n",
       "      <th>0</th>\n",
       "      <td>241032</td>\n",
       "      <td>2016-01-04</td>\n",
       "      <td>t</td>\n",
       "      <td>$85.00</td>\n",
       "    </tr>\n",
       "    <tr>\n",
       "      <th>1</th>\n",
       "      <td>241032</td>\n",
       "      <td>2016-01-05</td>\n",
       "      <td>t</td>\n",
       "      <td>$85.00</td>\n",
       "    </tr>\n",
       "    <tr>\n",
       "      <th>2</th>\n",
       "      <td>241032</td>\n",
       "      <td>2016-01-06</td>\n",
       "      <td>f</td>\n",
       "      <td>NaN</td>\n",
       "    </tr>\n",
       "    <tr>\n",
       "      <th>3</th>\n",
       "      <td>241032</td>\n",
       "      <td>2016-01-07</td>\n",
       "      <td>f</td>\n",
       "      <td>NaN</td>\n",
       "    </tr>\n",
       "    <tr>\n",
       "      <th>4</th>\n",
       "      <td>241032</td>\n",
       "      <td>2016-01-08</td>\n",
       "      <td>f</td>\n",
       "      <td>NaN</td>\n",
       "    </tr>\n",
       "  </tbody>\n",
       "</table>\n",
       "</div>"
      ],
      "text/plain": [
       "   listing_id        date available   price\n",
       "0      241032  2016-01-04         t  $85.00\n",
       "1      241032  2016-01-05         t  $85.00\n",
       "2      241032  2016-01-06         f     NaN\n",
       "3      241032  2016-01-07         f     NaN\n",
       "4      241032  2016-01-08         f     NaN"
      ]
     },
     "execution_count": 2,
     "metadata": {},
     "output_type": "execute_result"
    }
   ],
   "source": [
    "calendar_df = pd.read_csv('./data/seattle/calendar.csv')\n",
    "calendar_df.head()"
   ]
  },
  {
   "cell_type": "markdown",
   "metadata": {},
   "source": [
    "Strip off the `$` sign from the string and convert dollar value to float."
   ]
  },
  {
   "cell_type": "code",
   "execution_count": 3,
   "metadata": {},
   "outputs": [],
   "source": [
    "calendar_df['price'] = priceAsFloat(calendar_df['price'])"
   ]
  },
  {
   "cell_type": "markdown",
   "metadata": {},
   "source": [
    "Convert date string to datetime object."
   ]
  },
  {
   "cell_type": "code",
   "execution_count": 4,
   "metadata": {},
   "outputs": [],
   "source": [
    "calendar_df['ds'] = pd.to_datetime(calendar_df['date'], format='%Y-%m-%d')"
   ]
  },
  {
   "cell_type": "markdown",
   "metadata": {},
   "source": [
    "Create columns for year-month and month. They'll be useful when we aggregate values by month."
   ]
  },
  {
   "cell_type": "code",
   "execution_count": 5,
   "metadata": {},
   "outputs": [],
   "source": [
    "calendar_df['year-month'] = calendar_df['ds'].map(lambda x: x.strftime('%Y-%m'))\n",
    "calendar_df['month'] = calendar_df['ds'].map(lambda x: x.strftime('%m'))"
   ]
  },
  {
   "cell_type": "code",
   "execution_count": 6,
   "metadata": {},
   "outputs": [
    {
     "name": "stdout",
     "output_type": "stream",
     "text": [
      "Dataset contains listing from 2016-01 to 2017-01\n"
     ]
    }
   ],
   "source": [
    "print('Dataset contains listing from {} to {}'.format(calendar_df['year-month'].min(), calendar_df['year-month'].max()))"
   ]
  },
  {
   "cell_type": "code",
   "execution_count": 7,
   "metadata": {},
   "outputs": [
    {
     "data": {
      "text/html": [
       "<div>\n",
       "<style scoped>\n",
       "    .dataframe tbody tr th:only-of-type {\n",
       "        vertical-align: middle;\n",
       "    }\n",
       "\n",
       "    .dataframe tbody tr th {\n",
       "        vertical-align: top;\n",
       "    }\n",
       "\n",
       "    .dataframe thead th {\n",
       "        text-align: right;\n",
       "    }\n",
       "</style>\n",
       "<table border=\"1\" class=\"dataframe\">\n",
       "  <thead>\n",
       "    <tr style=\"text-align: right;\">\n",
       "      <th></th>\n",
       "      <th>listing_id</th>\n",
       "      <th>date</th>\n",
       "      <th>available</th>\n",
       "      <th>price</th>\n",
       "      <th>ds</th>\n",
       "      <th>month</th>\n",
       "    </tr>\n",
       "    <tr>\n",
       "      <th>year-month</th>\n",
       "      <th></th>\n",
       "      <th></th>\n",
       "      <th></th>\n",
       "      <th></th>\n",
       "      <th></th>\n",
       "      <th></th>\n",
       "    </tr>\n",
       "  </thead>\n",
       "  <tbody>\n",
       "    <tr>\n",
       "      <th>2016-01</th>\n",
       "      <td>106904</td>\n",
       "      <td>106904</td>\n",
       "      <td>106904</td>\n",
       "      <td>59239</td>\n",
       "      <td>106904</td>\n",
       "      <td>106904</td>\n",
       "    </tr>\n",
       "    <tr>\n",
       "      <th>2016-02</th>\n",
       "      <td>110722</td>\n",
       "      <td>110722</td>\n",
       "      <td>110722</td>\n",
       "      <td>73321</td>\n",
       "      <td>110722</td>\n",
       "      <td>110722</td>\n",
       "    </tr>\n",
       "    <tr>\n",
       "      <th>2016-03</th>\n",
       "      <td>118358</td>\n",
       "      <td>118358</td>\n",
       "      <td>118358</td>\n",
       "      <td>83938</td>\n",
       "      <td>118358</td>\n",
       "      <td>118358</td>\n",
       "    </tr>\n",
       "    <tr>\n",
       "      <th>2016-04</th>\n",
       "      <td>114540</td>\n",
       "      <td>114540</td>\n",
       "      <td>114540</td>\n",
       "      <td>76037</td>\n",
       "      <td>114540</td>\n",
       "      <td>114540</td>\n",
       "    </tr>\n",
       "    <tr>\n",
       "      <th>2016-05</th>\n",
       "      <td>118358</td>\n",
       "      <td>118358</td>\n",
       "      <td>118358</td>\n",
       "      <td>79971</td>\n",
       "      <td>118358</td>\n",
       "      <td>118358</td>\n",
       "    </tr>\n",
       "    <tr>\n",
       "      <th>2016-06</th>\n",
       "      <td>114540</td>\n",
       "      <td>114540</td>\n",
       "      <td>114540</td>\n",
       "      <td>77244</td>\n",
       "      <td>114540</td>\n",
       "      <td>114540</td>\n",
       "    </tr>\n",
       "    <tr>\n",
       "      <th>2016-07</th>\n",
       "      <td>118358</td>\n",
       "      <td>118358</td>\n",
       "      <td>118358</td>\n",
       "      <td>74222</td>\n",
       "      <td>118358</td>\n",
       "      <td>118358</td>\n",
       "    </tr>\n",
       "    <tr>\n",
       "      <th>2016-08</th>\n",
       "      <td>118358</td>\n",
       "      <td>118358</td>\n",
       "      <td>118358</td>\n",
       "      <td>76347</td>\n",
       "      <td>118358</td>\n",
       "      <td>118358</td>\n",
       "    </tr>\n",
       "    <tr>\n",
       "      <th>2016-09</th>\n",
       "      <td>114540</td>\n",
       "      <td>114540</td>\n",
       "      <td>114540</td>\n",
       "      <td>77246</td>\n",
       "      <td>114540</td>\n",
       "      <td>114540</td>\n",
       "    </tr>\n",
       "    <tr>\n",
       "      <th>2016-10</th>\n",
       "      <td>118358</td>\n",
       "      <td>118358</td>\n",
       "      <td>118358</td>\n",
       "      <td>82438</td>\n",
       "      <td>118358</td>\n",
       "      <td>118358</td>\n",
       "    </tr>\n",
       "    <tr>\n",
       "      <th>2016-11</th>\n",
       "      <td>114540</td>\n",
       "      <td>114540</td>\n",
       "      <td>114540</td>\n",
       "      <td>81780</td>\n",
       "      <td>114540</td>\n",
       "      <td>114540</td>\n",
       "    </tr>\n",
       "    <tr>\n",
       "      <th>2016-12</th>\n",
       "      <td>118358</td>\n",
       "      <td>118358</td>\n",
       "      <td>118358</td>\n",
       "      <td>87061</td>\n",
       "      <td>118358</td>\n",
       "      <td>118358</td>\n",
       "    </tr>\n",
       "    <tr>\n",
       "      <th>2017-01</th>\n",
       "      <td>7636</td>\n",
       "      <td>7636</td>\n",
       "      <td>7636</td>\n",
       "      <td>5698</td>\n",
       "      <td>7636</td>\n",
       "      <td>7636</td>\n",
       "    </tr>\n",
       "  </tbody>\n",
       "</table>\n",
       "</div>"
      ],
      "text/plain": [
       "            listing_id    date  available  price      ds   month\n",
       "year-month                                                      \n",
       "2016-01         106904  106904     106904  59239  106904  106904\n",
       "2016-02         110722  110722     110722  73321  110722  110722\n",
       "2016-03         118358  118358     118358  83938  118358  118358\n",
       "2016-04         114540  114540     114540  76037  114540  114540\n",
       "2016-05         118358  118358     118358  79971  118358  118358\n",
       "2016-06         114540  114540     114540  77244  114540  114540\n",
       "2016-07         118358  118358     118358  74222  118358  118358\n",
       "2016-08         118358  118358     118358  76347  118358  118358\n",
       "2016-09         114540  114540     114540  77246  114540  114540\n",
       "2016-10         118358  118358     118358  82438  118358  118358\n",
       "2016-11         114540  114540     114540  81780  114540  114540\n",
       "2016-12         118358  118358     118358  87061  118358  118358\n",
       "2017-01           7636    7636       7636   5698    7636    7636"
      ]
     },
     "execution_count": 7,
     "metadata": {},
     "output_type": "execute_result"
    }
   ],
   "source": [
    "calendar_df.groupby('year-month').count()"
   ]
  },
  {
   "cell_type": "markdown",
   "metadata": {},
   "source": [
    "2017-01 has MUCH fewer listing than other months. There seems to be missing data here. For the purpose of this analysis, we can eliminate the entire month and focus on 2016. "
   ]
  },
  {
   "cell_type": "code",
   "execution_count": 8,
   "metadata": {},
   "outputs": [],
   "source": [
    "calendar_df = calendar_df[calendar_df['year-month']!='2017-01']"
   ]
  },
  {
   "cell_type": "code",
   "execution_count": 9,
   "metadata": {},
   "outputs": [
    {
     "data": {
      "text/plain": [
       "listing_id\n",
       "3335     1\n",
       "4291     1\n",
       "5682    10\n",
       "6606     2\n",
       "7369     1\n",
       "Name: price, dtype: int64"
      ]
     },
     "execution_count": 9,
     "metadata": {},
     "output_type": "execute_result"
    }
   ],
   "source": [
    "calendar_df.groupby('listing_id').price.nunique().head()"
   ]
  },
  {
   "cell_type": "markdown",
   "metadata": {},
   "source": [
    "Listings look like they are repeated, so it appears that `calender.csv` contains day-to-day availability of each listing."
   ]
  },
  {
   "cell_type": "markdown",
   "metadata": {},
   "source": [
    "Convert `available` to numerical column so we can use aggregation to get the total number of listings and count the number of available listings."
   ]
  },
  {
   "cell_type": "code",
   "execution_count": 10,
   "metadata": {},
   "outputs": [
    {
     "name": "stderr",
     "output_type": "stream",
     "text": [
      "C:\\Users\\Kenny\\Anaconda3\\lib\\site-packages\\ipykernel_launcher.py:2: SettingWithCopyWarning: \n",
      "A value is trying to be set on a copy of a slice from a DataFrame.\n",
      "Try using .loc[row_indexer,col_indexer] = value instead\n",
      "\n",
      "See the caveats in the documentation: http://pandas.pydata.org/pandas-docs/stable/indexing.html#indexing-view-versus-copy\n",
      "  \n"
     ]
    }
   ],
   "source": [
    "available_df = calendar_df[['month', 'available']]\n",
    "available_df['available'] = available_df.apply(lambda x: 1 if x['available']=='t' else 0, 1)"
   ]
  },
  {
   "cell_type": "code",
   "execution_count": 11,
   "metadata": {},
   "outputs": [
    {
     "data": {
      "text/html": [
       "<div>\n",
       "<style scoped>\n",
       "    .dataframe tbody tr th:only-of-type {\n",
       "        vertical-align: middle;\n",
       "    }\n",
       "\n",
       "    .dataframe tbody tr th {\n",
       "        vertical-align: top;\n",
       "    }\n",
       "\n",
       "    .dataframe thead th {\n",
       "        text-align: right;\n",
       "    }\n",
       "</style>\n",
       "<table border=\"1\" class=\"dataframe\">\n",
       "  <thead>\n",
       "    <tr style=\"text-align: right;\">\n",
       "      <th></th>\n",
       "      <th>month</th>\n",
       "      <th>available</th>\n",
       "    </tr>\n",
       "  </thead>\n",
       "  <tbody>\n",
       "    <tr>\n",
       "      <th>0</th>\n",
       "      <td>01</td>\n",
       "      <td>1</td>\n",
       "    </tr>\n",
       "    <tr>\n",
       "      <th>1</th>\n",
       "      <td>01</td>\n",
       "      <td>1</td>\n",
       "    </tr>\n",
       "  </tbody>\n",
       "</table>\n",
       "</div>"
      ],
      "text/plain": [
       "  month  available\n",
       "0    01          1\n",
       "1    01          1"
      ]
     },
     "execution_count": 11,
     "metadata": {},
     "output_type": "execute_result"
    }
   ],
   "source": [
    "available_df.head(2)"
   ]
  },
  {
   "cell_type": "markdown",
   "metadata": {},
   "source": [
    "Calculate percent available per month. That requires getting a count of all listings and a count of listings that were available."
   ]
  },
  {
   "cell_type": "code",
   "execution_count": 12,
   "metadata": {},
   "outputs": [],
   "source": [
    "available_per_month_df = available_df.groupby('month').agg(['sum', 'count'])\n",
    "available_per_month_df.columns=['available_listings', 'total_listings']\n",
    "available_per_month_df = available_per_month_df.reset_index()\n",
    "available_per_month_df['percent_available'] = 100 * (available_per_month_df['available_listings']/available_per_month_df['total_listings'])\n"
   ]
  },
  {
   "cell_type": "code",
   "execution_count": 13,
   "metadata": {},
   "outputs": [
    {
     "data": {
      "text/html": [
       "<div>\n",
       "<style scoped>\n",
       "    .dataframe tbody tr th:only-of-type {\n",
       "        vertical-align: middle;\n",
       "    }\n",
       "\n",
       "    .dataframe tbody tr th {\n",
       "        vertical-align: top;\n",
       "    }\n",
       "\n",
       "    .dataframe thead th {\n",
       "        text-align: right;\n",
       "    }\n",
       "</style>\n",
       "<table border=\"1\" class=\"dataframe\">\n",
       "  <thead>\n",
       "    <tr style=\"text-align: right;\">\n",
       "      <th></th>\n",
       "      <th>month</th>\n",
       "      <th>available_listings</th>\n",
       "      <th>total_listings</th>\n",
       "      <th>percent_available</th>\n",
       "    </tr>\n",
       "  </thead>\n",
       "  <tbody>\n",
       "    <tr>\n",
       "      <th>0</th>\n",
       "      <td>01</td>\n",
       "      <td>59239</td>\n",
       "      <td>106904</td>\n",
       "      <td>55.413268</td>\n",
       "    </tr>\n",
       "    <tr>\n",
       "      <th>1</th>\n",
       "      <td>02</td>\n",
       "      <td>73321</td>\n",
       "      <td>110722</td>\n",
       "      <td>66.220805</td>\n",
       "    </tr>\n",
       "    <tr>\n",
       "      <th>2</th>\n",
       "      <td>03</td>\n",
       "      <td>83938</td>\n",
       "      <td>118358</td>\n",
       "      <td>70.918738</td>\n",
       "    </tr>\n",
       "    <tr>\n",
       "      <th>3</th>\n",
       "      <td>04</td>\n",
       "      <td>76037</td>\n",
       "      <td>114540</td>\n",
       "      <td>66.384669</td>\n",
       "    </tr>\n",
       "    <tr>\n",
       "      <th>4</th>\n",
       "      <td>05</td>\n",
       "      <td>79971</td>\n",
       "      <td>118358</td>\n",
       "      <td>67.567042</td>\n",
       "    </tr>\n",
       "    <tr>\n",
       "      <th>5</th>\n",
       "      <td>06</td>\n",
       "      <td>77244</td>\n",
       "      <td>114540</td>\n",
       "      <td>67.438449</td>\n",
       "    </tr>\n",
       "    <tr>\n",
       "      <th>6</th>\n",
       "      <td>07</td>\n",
       "      <td>74222</td>\n",
       "      <td>118358</td>\n",
       "      <td>62.709745</td>\n",
       "    </tr>\n",
       "    <tr>\n",
       "      <th>7</th>\n",
       "      <td>08</td>\n",
       "      <td>76347</td>\n",
       "      <td>118358</td>\n",
       "      <td>64.505145</td>\n",
       "    </tr>\n",
       "    <tr>\n",
       "      <th>8</th>\n",
       "      <td>09</td>\n",
       "      <td>77246</td>\n",
       "      <td>114540</td>\n",
       "      <td>67.440196</td>\n",
       "    </tr>\n",
       "    <tr>\n",
       "      <th>9</th>\n",
       "      <td>10</td>\n",
       "      <td>82438</td>\n",
       "      <td>118358</td>\n",
       "      <td>69.651397</td>\n",
       "    </tr>\n",
       "    <tr>\n",
       "      <th>10</th>\n",
       "      <td>11</td>\n",
       "      <td>81780</td>\n",
       "      <td>114540</td>\n",
       "      <td>71.398638</td>\n",
       "    </tr>\n",
       "    <tr>\n",
       "      <th>11</th>\n",
       "      <td>12</td>\n",
       "      <td>87061</td>\n",
       "      <td>118358</td>\n",
       "      <td>73.557343</td>\n",
       "    </tr>\n",
       "  </tbody>\n",
       "</table>\n",
       "</div>"
      ],
      "text/plain": [
       "   month  available_listings  total_listings  percent_available\n",
       "0     01               59239          106904          55.413268\n",
       "1     02               73321          110722          66.220805\n",
       "2     03               83938          118358          70.918738\n",
       "3     04               76037          114540          66.384669\n",
       "4     05               79971          118358          67.567042\n",
       "5     06               77244          114540          67.438449\n",
       "6     07               74222          118358          62.709745\n",
       "7     08               76347          118358          64.505145\n",
       "8     09               77246          114540          67.440196\n",
       "9     10               82438          118358          69.651397\n",
       "10    11               81780          114540          71.398638\n",
       "11    12               87061          118358          73.557343"
      ]
     },
     "execution_count": 13,
     "metadata": {},
     "output_type": "execute_result"
    }
   ],
   "source": [
    "available_per_month_df"
   ]
  },
  {
   "cell_type": "code",
   "execution_count": 14,
   "metadata": {},
   "outputs": [
    {
     "data": {
      "text/plain": [
       "count        12.000000\n",
       "mean     115494.500000\n",
       "std        3685.543268\n",
       "min      106904.000000\n",
       "25%      114540.000000\n",
       "50%      116449.000000\n",
       "75%      118358.000000\n",
       "max      118358.000000\n",
       "Name: total_listings, dtype: float64"
      ]
     },
     "execution_count": 14,
     "metadata": {},
     "output_type": "execute_result"
    }
   ],
   "source": [
    "available_per_month_df['total_listings'].describe()"
   ]
  },
  {
   "cell_type": "markdown",
   "metadata": {},
   "source": [
    "The average number of listings is 115k and the STD is 3.6k. That isn't enough variation to suggests that some months have more listing than other months.\n",
    "However, looks like **inventory** is lowest in January and highest in December."
   ]
  },
  {
   "cell_type": "code",
   "execution_count": 15,
   "metadata": {},
   "outputs": [
    {
     "data": {
      "text/plain": [
       "0.9032258064516129"
      ]
     },
     "execution_count": 15,
     "metadata": {},
     "output_type": "execute_result"
    }
   ],
   "source": [
    "available_per_month_df['total_listings'].min()/available_per_month_df['total_listings'].max()"
   ]
  },
  {
   "cell_type": "markdown",
   "metadata": {},
   "source": [
    "Inventory in lowest month is roughly 90% of inventory in the highest month. "
   ]
  },
  {
   "cell_type": "markdown",
   "metadata": {},
   "source": [
    "## Plot monthly availability"
   ]
  },
  {
   "cell_type": "code",
   "execution_count": 300,
   "metadata": {},
   "outputs": [
    {
     "data": {
      "image/png": "[encoded data removed]",
      "text/plain": [
       "<Figure size 432x288 with 1 Axes>"
      ]
     },
     "metadata": {},
     "output_type": "display_data"
    }
   ],
   "source": [
    "lineplot(available_per_month_df, 'month', 'percent_available', \n",
    "         xlabel='month', ylabel='availability (%)', title='Availability')"
   ]
  },
  {
   "cell_type": "markdown",
   "metadata": {},
   "source": [
    "January has the lowest availability. Demand is higher than other month in the year. Keep mind that January also has the lowest inventory."
   ]
  },
  {
   "cell_type": "code",
   "execution_count": null,
   "metadata": {},
   "outputs": [],
   "source": []
  },
  {
   "cell_type": "markdown",
   "metadata": {},
   "source": [
    "Plot daily availability in January"
   ]
  },
  {
   "cell_type": "code",
   "execution_count": 17,
   "metadata": {},
   "outputs": [],
   "source": [
    "jan_availability_df = calendar_df[calendar_df['month']=='01'][['ds', 'available']]\n",
    "jan_availability_df['available'] = jan_availability_df.apply(lambda x: 1 if x['available']=='t' else 0, 1)\n",
    "jan_availibility_per_day_df = jan_availability_df.groupby('ds').agg(['sum', 'count'])\n",
    "jan_availibility_per_day_df.columns=['available_listings', 'total_listings']\n",
    "jan_availibility_per_day_df = jan_availibility_per_day_df.reset_index()\n",
    "jan_availibility_per_day_df['percent_available'] = (100.0 * jan_availibility_per_day_df['available_listings'])/jan_availibility_per_day_df['total_listings']\n"
   ]
  },
  {
   "cell_type": "code",
   "execution_count": 302,
   "metadata": {},
   "outputs": [
    {
     "data": {
      "image/png": "[encoded data removed]",
      "text/plain": [
       "<Figure size 432x288 with 1 Axes>"
      ]
     },
     "metadata": {},
     "output_type": "display_data"
    }
   ],
   "source": [
    "lineplot(jan_availibility_per_day_df, 'ds', 'percent_available', \n",
    "         xlabel='day', ylabel='availability (%)', title='Availability')"
   ]
  },
  {
   "cell_type": "markdown",
   "metadata": {},
   "source": [
    "Demand is highest at the beginning of the year. Plot shows that inventory starts low in January and then increases. It could related to the New Year and hosts are away or occupied with family during that time. "
   ]
  },
  {
   "cell_type": "code",
   "execution_count": null,
   "metadata": {},
   "outputs": [],
   "source": []
  },
  {
   "cell_type": "markdown",
   "metadata": {},
   "source": [
    "# What Factors affect rating?\n",
    "We want to answer this question because it's important for hosts to maintain the highest rating.\n",
    "`listing.csv` contains review scores, let's dive in and see we can find anything that drives the overall rating of the rental."
   ]
  },
  {
   "cell_type": "code",
   "execution_count": 19,
   "metadata": {},
   "outputs": [],
   "source": [
    "listing_df = pd.read_csv('./data/seattle/listings.csv')"
   ]
  },
  {
   "cell_type": "code",
   "execution_count": 20,
   "metadata": {},
   "outputs": [
    {
     "data": {
      "text/html": [
       "<div>\n",
       "<style scoped>\n",
       "    .dataframe tbody tr th:only-of-type {\n",
       "        vertical-align: middle;\n",
       "    }\n",
       "\n",
       "    .dataframe tbody tr th {\n",
       "        vertical-align: top;\n",
       "    }\n",
       "\n",
       "    .dataframe thead th {\n",
       "        text-align: right;\n",
       "    }\n",
       "</style>\n",
       "<table border=\"1\" class=\"dataframe\">\n",
       "  <thead>\n",
       "    <tr style=\"text-align: right;\">\n",
       "      <th></th>\n",
       "      <th>id</th>\n",
       "      <th>listing_url</th>\n",
       "      <th>scrape_id</th>\n",
       "      <th>last_scraped</th>\n",
       "      <th>name</th>\n",
       "      <th>summary</th>\n",
       "      <th>space</th>\n",
       "      <th>description</th>\n",
       "      <th>experiences_offered</th>\n",
       "      <th>neighborhood_overview</th>\n",
       "      <th>notes</th>\n",
       "      <th>transit</th>\n",
       "      <th>thumbnail_url</th>\n",
       "      <th>medium_url</th>\n",
       "      <th>picture_url</th>\n",
       "      <th>xl_picture_url</th>\n",
       "      <th>host_id</th>\n",
       "      <th>host_url</th>\n",
       "      <th>host_name</th>\n",
       "      <th>host_since</th>\n",
       "      <th>host_location</th>\n",
       "      <th>host_about</th>\n",
       "      <th>host_response_time</th>\n",
       "      <th>host_response_rate</th>\n",
       "      <th>host_acceptance_rate</th>\n",
       "      <th>host_is_superhost</th>\n",
       "      <th>host_thumbnail_url</th>\n",
       "      <th>host_picture_url</th>\n",
       "      <th>host_neighbourhood</th>\n",
       "      <th>host_listings_count</th>\n",
       "      <th>host_total_listings_count</th>\n",
       "      <th>host_verifications</th>\n",
       "      <th>host_has_profile_pic</th>\n",
       "      <th>host_identity_verified</th>\n",
       "      <th>street</th>\n",
       "      <th>neighbourhood</th>\n",
       "      <th>neighbourhood_cleansed</th>\n",
       "      <th>neighbourhood_group_cleansed</th>\n",
       "      <th>city</th>\n",
       "      <th>state</th>\n",
       "      <th>zipcode</th>\n",
       "      <th>market</th>\n",
       "      <th>smart_location</th>\n",
       "      <th>country_code</th>\n",
       "      <th>country</th>\n",
       "      <th>latitude</th>\n",
       "      <th>longitude</th>\n",
       "      <th>is_location_exact</th>\n",
       "      <th>property_type</th>\n",
       "      <th>room_type</th>\n",
       "      <th>accommodates</th>\n",
       "      <th>bathrooms</th>\n",
       "      <th>bedrooms</th>\n",
       "      <th>beds</th>\n",
       "      <th>bed_type</th>\n",
       "      <th>amenities</th>\n",
       "      <th>square_feet</th>\n",
       "      <th>price</th>\n",
       "      <th>weekly_price</th>\n",
       "      <th>monthly_price</th>\n",
       "      <th>security_deposit</th>\n",
       "      <th>cleaning_fee</th>\n",
       "      <th>guests_included</th>\n",
       "      <th>extra_people</th>\n",
       "      <th>minimum_nights</th>\n",
       "      <th>maximum_nights</th>\n",
       "      <th>calendar_updated</th>\n",
       "      <th>has_availability</th>\n",
       "      <th>availability_30</th>\n",
       "      <th>availability_60</th>\n",
       "      <th>availability_90</th>\n",
       "      <th>availability_365</th>\n",
       "      <th>calendar_last_scraped</th>\n",
       "      <th>number_of_reviews</th>\n",
       "      <th>first_review</th>\n",
       "      <th>last_review</th>\n",
       "      <th>review_scores_rating</th>\n",
       "      <th>review_scores_accuracy</th>\n",
       "      <th>review_scores_cleanliness</th>\n",
       "      <th>review_scores_checkin</th>\n",
       "      <th>review_scores_communication</th>\n",
       "      <th>review_scores_location</th>\n",
       "      <th>review_scores_value</th>\n",
       "      <th>requires_license</th>\n",
       "      <th>license</th>\n",
       "      <th>jurisdiction_names</th>\n",
       "      <th>instant_bookable</th>\n",
       "      <th>cancellation_policy</th>\n",
       "      <th>require_guest_profile_picture</th>\n",
       "      <th>require_guest_phone_verification</th>\n",
       "      <th>calculated_host_listings_count</th>\n",
       "      <th>reviews_per_month</th>\n",
       "    </tr>\n",
       "  </thead>\n",
       "  <tbody>\n",
       "    <tr>\n",
       "      <th>0</th>\n",
       "      <td>241032</td>\n",
       "      <td>https://www.airbnb.com/rooms/241032</td>\n",
       "      <td>20160104002432</td>\n",
       "      <td>2016-01-04</td>\n",
       "      <td>Stylish Queen Anne Apartment</td>\n",
       "      <td>NaN</td>\n",
       "      <td>Make your self at home in this charming one-bedroom apartment, centrally-located on the west side of Queen Anne hill.   This elegantly-decorated, completely private apartment (bottom unit of a duplex) has an open floor plan, bamboo floors, a fully equipped kitchen, a TV,  DVD player, basic cable, and a very cozy bedroom with a queen-size bed. The unit sleeps up to four (two in the bedroom and two on the very comfortable fold out couch, linens included) and includes free WiFi and laundry. The apartment opens onto a private deck, complete with it's own BBQ, overlooking a garden and a forest of black bamboo.    The Apartment is perfectly-located just one block from the bus lines where you can catch a bus and be downtown Seattle in fifteen minutes or historic Ballard in ten or a quick five-minute walk will bring you to Whole Foods and Peet's Coffee or take a fifteen minute walk to the top of Queen Anne Hill where you will find a variety of eclectic shops, bars, and restaurants. There i...</td>\n",
       "      <td>Make your self at home in this charming one-bedroom apartment, centrally-located on the west side of Queen Anne hill.   This elegantly-decorated, completely private apartment (bottom unit of a duplex) has an open floor plan, bamboo floors, a fully equipped kitchen, a TV,  DVD player, basic cable, and a very cozy bedroom with a queen-size bed. The unit sleeps up to four (two in the bedroom and two on the very comfortable fold out couch, linens included) and includes free WiFi and laundry. The apartment opens onto a private deck, complete with it's own BBQ, overlooking a garden and a forest of black bamboo.    The Apartment is perfectly-located just one block from the bus lines where you can catch a bus and be downtown Seattle in fifteen minutes or historic Ballard in ten or a quick five-minute walk will bring you to Whole Foods and Peet's Coffee or take a fifteen minute walk to the top of Queen Anne Hill where you will find a variety of eclectic shops, bars, and restaurants. There i...</td>\n",
       "      <td>none</td>\n",
       "      <td>NaN</td>\n",
       "      <td>NaN</td>\n",
       "      <td>NaN</td>\n",
       "      <td>NaN</td>\n",
       "      <td>NaN</td>\n",
       "      <td>https://a1.muscache.com/ac/pictures/67560560/cfe47d69_original.jpg?interpolation=lanczos-none&amp;size=large_cover&amp;output-format=jpg&amp;output-quality=70</td>\n",
       "      <td>NaN</td>\n",
       "      <td>956883</td>\n",
       "      <td>https://www.airbnb.com/users/show/956883</td>\n",
       "      <td>Maija</td>\n",
       "      <td>2011-08-11</td>\n",
       "      <td>Seattle, Washington, United States</td>\n",
       "      <td>I am an artist, interior designer, and run a small landscape business. My life revolves around beauty wherever I find it or create it. I grew up in Seattle and love this city for the people, it's natural beauty and don't know anywhere else I would rather call home. I love to travel and try to do so as much as possible and am excited to be a part of the airbnb community!</td>\n",
       "      <td>within a few hours</td>\n",
       "      <td>96%</td>\n",
       "      <td>100%</td>\n",
       "      <td>f</td>\n",
       "      <td>https://a0.muscache.com/ac/users/956883/profile_pic/1318103129/original.jpg?interpolation=lanczos-none&amp;crop=w:w;*,*&amp;crop=h:h;*,*&amp;resize=50:*&amp;output-format=jpg&amp;output-quality=70</td>\n",
       "      <td>https://a0.muscache.com/ac/users/956883/profile_pic/1318103129/original.jpg?interpolation=lanczos-none&amp;crop=w:w;*,*&amp;crop=h:h;*,*&amp;resize=225:*&amp;output-format=jpg&amp;output-quality=70</td>\n",
       "      <td>Queen Anne</td>\n",
       "      <td>3.0</td>\n",
       "      <td>3.0</td>\n",
       "      <td>['email', 'phone', 'reviews', 'kba']</td>\n",
       "      <td>t</td>\n",
       "      <td>t</td>\n",
       "      <td>Gilman Dr W, Seattle, WA 98119, United States</td>\n",
       "      <td>Queen Anne</td>\n",
       "      <td>West Queen Anne</td>\n",
       "      <td>Queen Anne</td>\n",
       "      <td>Seattle</td>\n",
       "      <td>WA</td>\n",
       "      <td>98119</td>\n",
       "      <td>Seattle</td>\n",
       "      <td>Seattle, WA</td>\n",
       "      <td>US</td>\n",
       "      <td>United States</td>\n",
       "      <td>47.636289</td>\n",
       "      <td>-122.371025</td>\n",
       "      <td>t</td>\n",
       "      <td>Apartment</td>\n",
       "      <td>Entire home/apt</td>\n",
       "      <td>4</td>\n",
       "      <td>1.0</td>\n",
       "      <td>1.0</td>\n",
       "      <td>1.0</td>\n",
       "      <td>Real Bed</td>\n",
       "      <td>{TV,\"Cable TV\",Internet,\"Wireless Internet\",\"Air Conditioning\",Kitchen,Heating,\"Family/Kid Friendly\",Washer,Dryer}</td>\n",
       "      <td>NaN</td>\n",
       "      <td>$85.00</td>\n",
       "      <td>NaN</td>\n",
       "      <td>NaN</td>\n",
       "      <td>NaN</td>\n",
       "      <td>NaN</td>\n",
       "      <td>2</td>\n",
       "      <td>$5.00</td>\n",
       "      <td>1</td>\n",
       "      <td>365</td>\n",
       "      <td>4 weeks ago</td>\n",
       "      <td>t</td>\n",
       "      <td>14</td>\n",
       "      <td>41</td>\n",
       "      <td>71</td>\n",
       "      <td>346</td>\n",
       "      <td>2016-01-04</td>\n",
       "      <td>207</td>\n",
       "      <td>2011-11-01</td>\n",
       "      <td>2016-01-02</td>\n",
       "      <td>95.0</td>\n",
       "      <td>10.0</td>\n",
       "      <td>10.0</td>\n",
       "      <td>10.0</td>\n",
       "      <td>10.0</td>\n",
       "      <td>9.0</td>\n",
       "      <td>10.0</td>\n",
       "      <td>f</td>\n",
       "      <td>NaN</td>\n",
       "      <td>WASHINGTON</td>\n",
       "      <td>f</td>\n",
       "      <td>moderate</td>\n",
       "      <td>f</td>\n",
       "      <td>f</td>\n",
       "      <td>2</td>\n",
       "      <td>4.07</td>\n",
       "    </tr>\n",
       "    <tr>\n",
       "      <th>1</th>\n",
       "      <td>953595</td>\n",
       "      <td>https://www.airbnb.com/rooms/953595</td>\n",
       "      <td>20160104002432</td>\n",
       "      <td>2016-01-04</td>\n",
       "      <td>Bright &amp; Airy Queen Anne Apartment</td>\n",
       "      <td>Chemically sensitive? We've removed the irritants triggering allergy or asthma attacks, like carpeting, forced air &amp; used pillows, all culprits that harbor fungus, mold &amp; bacteria.  No smoking, no pets.  Designed for healthy living, so breathe easy.</td>\n",
       "      <td>Beautiful, hypoallergenic apartment in an extremely safe, quiet and pedestrian-friendly section of Queen Anne.  A leafy-green location that puts the best of Seattle at your doorstep. Free WiFi, free parking, ...even free pillows!  What's special about this place? Hypo-allergenic bedding, mattresses/covers and new pillows with each rental. (So feel free to take your new pillows with you!)  A beautiful restoration mixing period details &amp; modern sensibilities: Hardwood floors throughout, white subway tile, low/no VOCs &amp; non-toxic paints keep this home-away-from-home clean, smart and healthy. Radiant heat and oil radiators mean no blowing hot air or dust.  Great Amenities: Free WiFi &amp; internet TV (LED flatscreen). Fully-equipped kitchen with stainless-steel appliances, sink &amp; disposal. Large washer &amp; dryer.  Iron/ironing board. Hairdryer. Plenty of storage. Convenient parking, both on- and off-street. The Best Location: Enjoy Seattle's celebrated Macrina bakery, neighborhood cafes, bou...</td>\n",
       "      <td>Chemically sensitive? We've removed the irritants triggering allergy or asthma attacks, like carpeting, forced air &amp; used pillows, all culprits that harbor fungus, mold &amp; bacteria.  No smoking, no pets.  Designed for healthy living, so breathe easy. Beautiful, hypoallergenic apartment in an extremely safe, quiet and pedestrian-friendly section of Queen Anne.  A leafy-green location that puts the best of Seattle at your doorstep. Free WiFi, free parking, ...even free pillows!  What's special about this place? Hypo-allergenic bedding, mattresses/covers and new pillows with each rental. (So feel free to take your new pillows with you!)  A beautiful restoration mixing period details &amp; modern sensibilities: Hardwood floors throughout, white subway tile, low/no VOCs &amp; non-toxic paints keep this home-away-from-home clean, smart and healthy. Radiant heat and oil radiators mean no blowing hot air or dust.  Great Amenities: Free WiFi &amp; internet TV (LED flatscreen). Fully-equipped kitchen wit...</td>\n",
       "      <td>none</td>\n",
       "      <td>Queen Anne is a wonderful, truly functional village.  You can walk everywhere... for coffee, for groceries, for a night out, for breathtaking views of the Puget Sound.</td>\n",
       "      <td>What's up with the free pillows?  Our home was renovated and restored with health &amp; safety in mind, especially the elimination/reduction of indoor allergens, toxins &amp; other pollutants.  (For this reason, we have no carpets, just hardwood &amp; slate floors, with radiant heat.)  Pillows tend to house a LOT of allergens over time, even when just used by a single owner.  The statistics make many people feel pretty queasy but, essentially, pillows become great breeding grounds for bacteria and dust mites, not to mention drool, hair oils and perspiration. Since most people sweat more than a pint a night, the pillow can also easily trap mildew and mold. We use dust mite protectors for mattresses and duvets, but haven't found any that work well for pillows that maintain comfort/elasticity without the use of outgassing materials.  So, I let the guests take their pillows but ask that they leave the pillowcases. And if you leave the pillows behind, they'll be donated to a local women's shelter t...</td>\n",
       "      <td>Convenient bus stops are just down the block, if you're headed downtown or further afield to explore.  Zip cars are also strategically located on Queen Anne hill.</td>\n",
       "      <td>https://a0.muscache.com/ac/pictures/14409893/f8e3ed8d_original.jpg?interpolation=lanczos-none&amp;size=small&amp;output-format=jpg&amp;output-quality=70</td>\n",
       "      <td>https://a0.muscache.com/im/pictures/14409893/f8e3ed8d_original.jpg?aki_policy=medium</td>\n",
       "      <td>https://a0.muscache.com/ac/pictures/14409893/f8e3ed8d_original.jpg?interpolation=lanczos-none&amp;size=large_cover&amp;output-format=jpg&amp;output-quality=70</td>\n",
       "      <td>https://a0.muscache.com/ac/pictures/14409893/f8e3ed8d_original.jpg?interpolation=lanczos-none&amp;size=x_large_cover&amp;output-format=jpg&amp;output-quality=70</td>\n",
       "      <td>5177328</td>\n",
       "      <td>https://www.airbnb.com/users/show/5177328</td>\n",
       "      <td>Andrea</td>\n",
       "      <td>2013-02-21</td>\n",
       "      <td>Seattle, Washington, United States</td>\n",
       "      <td>Living east coast/left coast/overseas.  Time is short &amp; it's a big world.</td>\n",
       "      <td>within an hour</td>\n",
       "      <td>98%</td>\n",
       "      <td>100%</td>\n",
       "      <td>t</td>\n",
       "      <td>https://a0.muscache.com/ac/users/5177328/profile_pic/1361540767/original.jpg?interpolation=lanczos-none&amp;crop=w:w;*,*&amp;crop=h:h;*,*&amp;resize=50:*&amp;output-format=jpg&amp;output-quality=70</td>\n",
       "      <td>https://a0.muscache.com/ac/users/5177328/profile_pic/1361540767/original.jpg?interpolation=lanczos-none&amp;crop=w:w;*,*&amp;crop=h:h;*,*&amp;resize=225:*&amp;output-format=jpg&amp;output-quality=70</td>\n",
       "      <td>Queen Anne</td>\n",
       "      <td>6.0</td>\n",
       "      <td>6.0</td>\n",
       "      <td>['email', 'phone', 'facebook', 'linkedin', 'reviews', 'jumio']</td>\n",
       "      <td>t</td>\n",
       "      <td>t</td>\n",
       "      <td>7th Avenue West, Seattle, WA 98119, United States</td>\n",
       "      <td>Queen Anne</td>\n",
       "      <td>West Queen Anne</td>\n",
       "      <td>Queen Anne</td>\n",
       "      <td>Seattle</td>\n",
       "      <td>WA</td>\n",
       "      <td>98119</td>\n",
       "      <td>Seattle</td>\n",
       "      <td>Seattle, WA</td>\n",
       "      <td>US</td>\n",
       "      <td>United States</td>\n",
       "      <td>47.639123</td>\n",
       "      <td>-122.365666</td>\n",
       "      <td>t</td>\n",
       "      <td>Apartment</td>\n",
       "      <td>Entire home/apt</td>\n",
       "      <td>4</td>\n",
       "      <td>1.0</td>\n",
       "      <td>1.0</td>\n",
       "      <td>1.0</td>\n",
       "      <td>Real Bed</td>\n",
       "      <td>{TV,Internet,\"Wireless Internet\",Kitchen,\"Free Parking on Premises\",\"Buzzer/Wireless Intercom\",Heating,\"Family/Kid Friendly\",Washer,Dryer,\"Smoke Detector\",\"Carbon Monoxide Detector\",\"First Aid Kit\",\"Safety Card\",\"Fire Extinguisher\",Essentials}</td>\n",
       "      <td>NaN</td>\n",
       "      <td>$150.00</td>\n",
       "      <td>$1,000.00</td>\n",
       "      <td>$3,000.00</td>\n",
       "      <td>$100.00</td>\n",
       "      <td>$40.00</td>\n",
       "      <td>1</td>\n",
       "      <td>$0.00</td>\n",
       "      <td>2</td>\n",
       "      <td>90</td>\n",
       "      <td>today</td>\n",
       "      <td>t</td>\n",
       "      <td>13</td>\n",
       "      <td>13</td>\n",
       "      <td>16</td>\n",
       "      <td>291</td>\n",
       "      <td>2016-01-04</td>\n",
       "      <td>43</td>\n",
       "      <td>2013-08-19</td>\n",
       "      <td>2015-12-29</td>\n",
       "      <td>96.0</td>\n",
       "      <td>10.0</td>\n",
       "      <td>10.0</td>\n",
       "      <td>10.0</td>\n",
       "      <td>10.0</td>\n",
       "      <td>10.0</td>\n",
       "      <td>10.0</td>\n",
       "      <td>f</td>\n",
       "      <td>NaN</td>\n",
       "      <td>WASHINGTON</td>\n",
       "      <td>f</td>\n",
       "      <td>strict</td>\n",
       "      <td>t</td>\n",
       "      <td>t</td>\n",
       "      <td>6</td>\n",
       "      <td>1.48</td>\n",
       "    </tr>\n",
       "    <tr>\n",
       "      <th>2</th>\n",
       "      <td>3308979</td>\n",
       "      <td>https://www.airbnb.com/rooms/3308979</td>\n",
       "      <td>20160104002432</td>\n",
       "      <td>2016-01-04</td>\n",
       "      <td>New Modern House-Amazing water view</td>\n",
       "      <td>New modern house built in 2013.  Spectacular sunset/water views and light, rooftop deck and lounge area, hot tub, 5 bedrooms, gourmet kitchen.  Perfect for 2-3 families, walk to downtown.  Located in highly desirable Queen Anne neighborhood.</td>\n",
       "      <td>Our house is modern, light and fresh with a warm simple palette accented with barnwood, steel and concrete.  Open living spaces for entertaining, gourmet kitchen, deck off the kitchen, reading nook, half bath and smaller tv room off kitchen.  Fireplace with sofa and sitting area. Basement room is great for kids...this room has patio access and a garage door that opens into the space with basketball hoop right outside.  A queen bedroom and full bath are in the basement with concrete heated floors.  A queen sleeper sofa is in the tv area in the basement.  This room has a door if privacy is needed.  Great for a second family with kids.  The 2nd floor has 4 bedrooms (one queen in master, one twin bedroom, another bedroom has twin bunk beds and the last bedroom has a queen bed. Their are 2 full baths, both with double sinks on this floor(one in the master).  The 3rd floor is a very large deck, hot tub, kitchen prep area with fridge, lounge space for movies and 3/4 bath (rain head shower...</td>\n",
       "      <td>New modern house built in 2013.  Spectacular sunset/water views and light, rooftop deck and lounge area, hot tub, 5 bedrooms, gourmet kitchen.  Perfect for 2-3 families, walk to downtown.  Located in highly desirable Queen Anne neighborhood. Our house is modern, light and fresh with a warm simple palette accented with barnwood, steel and concrete.  Open living spaces for entertaining, gourmet kitchen, deck off the kitchen, reading nook, half bath and smaller tv room off kitchen.  Fireplace with sofa and sitting area. Basement room is great for kids...this room has patio access and a garage door that opens into the space with basketball hoop right outside.  A queen bedroom and full bath are in the basement with concrete heated floors.  A queen sleeper sofa is in the tv area in the basement.  This room has a door if privacy is needed.  Great for a second family with kids.  The 2nd floor has 4 bedrooms (one queen in master, one twin bedroom, another bedroom has twin bunk beds and the ...</td>\n",
       "      <td>none</td>\n",
       "      <td>Upper Queen Anne is a charming neighborhood full of a mix of beautifully maintained, turn-of-the-century craftsman homes, tudors and modern homes.  The \"main drag\" is Queen Anne Ave. with a great selection of boutiques, restaurants, coffee shops and bars.  Upper Queen Anne is just 1.5 miles from downtown Seattle, and situated on a hilltop with stunning panoramic views in every direction -- downtown Seattle, the Space Needle and Mt. Rainier to the southeast, Elliott Bay to the southwest, the Olympic Mountains to the west and the Cascade Mountains to the east. If you're a walker, you'll love the 4-mile \"Crown of Queen Anne\" loop which takes in all of these views!</td>\n",
       "      <td>Our house is located just 5 short blocks to Top Pot Doughnuts, Tribunali pizza, Caffe Fiore, Trader Joes and Molly Moons.  Just 8 blocks to Queen Anne Ave.</td>\n",
       "      <td>A bus stop is just 2 blocks away.   Easy bus access to all the sites: Lower Queen Anne, Seattle Center, The Space Needle, Experience Music Project, Chihuly Glass Museum, Pacific Science Center and more.</td>\n",
       "      <td>NaN</td>\n",
       "      <td>NaN</td>\n",
       "      <td>https://a2.muscache.com/ac/pictures/b4324e0f-a41b-4614-85a5-0e58c1983b99.jpg?interpolation=lanczos-none&amp;size=large_cover&amp;output-format=jpg&amp;output-quality=70</td>\n",
       "      <td>NaN</td>\n",
       "      <td>16708587</td>\n",
       "      <td>https://www.airbnb.com/users/show/16708587</td>\n",
       "      <td>Jill</td>\n",
       "      <td>2014-06-12</td>\n",
       "      <td>Seattle, Washington, United States</td>\n",
       "      <td>i love living in Seattle.  i grew up in the mid-west but the Pacific North West has always felt like home.  i am a mom to 3 beautiful kids, love playing tennis, cooking, reading and being with friends and family.  i manage a few long-term rental properties as well as consult and manage AirBnB properties for those living in the Seattle area.</td>\n",
       "      <td>within a few hours</td>\n",
       "      <td>67%</td>\n",
       "      <td>100%</td>\n",
       "      <td>f</td>\n",
       "      <td>https://a1.muscache.com/ac/users/16708587/profile_pic/1428941043/original.jpg?interpolation=lanczos-none&amp;crop=w:w;*,*&amp;crop=h:h;*,*&amp;resize=50:*&amp;output-format=jpg&amp;output-quality=70</td>\n",
       "      <td>https://a1.muscache.com/ac/users/16708587/profile_pic/1428941043/original.jpg?interpolation=lanczos-none&amp;crop=w:w;*,*&amp;crop=h:h;*,*&amp;resize=225:*&amp;output-format=jpg&amp;output-quality=70</td>\n",
       "      <td>Queen Anne</td>\n",
       "      <td>2.0</td>\n",
       "      <td>2.0</td>\n",
       "      <td>['email', 'phone', 'google', 'reviews', 'jumio']</td>\n",
       "      <td>t</td>\n",
       "      <td>t</td>\n",
       "      <td>West Lee Street, Seattle, WA 98119, United States</td>\n",
       "      <td>Queen Anne</td>\n",
       "      <td>West Queen Anne</td>\n",
       "      <td>Queen Anne</td>\n",
       "      <td>Seattle</td>\n",
       "      <td>WA</td>\n",
       "      <td>98119</td>\n",
       "      <td>Seattle</td>\n",
       "      <td>Seattle, WA</td>\n",
       "      <td>US</td>\n",
       "      <td>United States</td>\n",
       "      <td>47.629724</td>\n",
       "      <td>-122.369483</td>\n",
       "      <td>t</td>\n",
       "      <td>House</td>\n",
       "      <td>Entire home/apt</td>\n",
       "      <td>11</td>\n",
       "      <td>4.5</td>\n",
       "      <td>5.0</td>\n",
       "      <td>7.0</td>\n",
       "      <td>Real Bed</td>\n",
       "      <td>{TV,\"Cable TV\",Internet,\"Wireless Internet\",\"Air Conditioning\",Kitchen,\"Free Parking on Premises\",\"Pets Allowed\",\"Pets live on this property\",Dog(s),Cat(s),\"Hot Tub\",\"Indoor Fireplace\",Heating,\"Family/Kid Friendly\",Washer,Dryer,\"Smoke Detector\",\"Carbon Monoxide Detector\",Essentials,Shampoo}</td>\n",
       "      <td>NaN</td>\n",
       "      <td>$975.00</td>\n",
       "      <td>NaN</td>\n",
       "      <td>NaN</td>\n",
       "      <td>$1,000.00</td>\n",
       "      <td>$300.00</td>\n",
       "      <td>10</td>\n",
       "      <td>$25.00</td>\n",
       "      <td>4</td>\n",
       "      <td>30</td>\n",
       "      <td>5 weeks ago</td>\n",
       "      <td>t</td>\n",
       "      <td>1</td>\n",
       "      <td>6</td>\n",
       "      <td>17</td>\n",
       "      <td>220</td>\n",
       "      <td>2016-01-04</td>\n",
       "      <td>20</td>\n",
       "      <td>2014-07-30</td>\n",
       "      <td>2015-09-03</td>\n",
       "      <td>97.0</td>\n",
       "      <td>10.0</td>\n",
       "      <td>10.0</td>\n",
       "      <td>10.0</td>\n",
       "      <td>10.0</td>\n",
       "      <td>10.0</td>\n",
       "      <td>10.0</td>\n",
       "      <td>f</td>\n",
       "      <td>NaN</td>\n",
       "      <td>WASHINGTON</td>\n",
       "      <td>f</td>\n",
       "      <td>strict</td>\n",
       "      <td>f</td>\n",
       "      <td>f</td>\n",
       "      <td>2</td>\n",
       "      <td>1.15</td>\n",
       "    </tr>\n",
       "    <tr>\n",
       "      <th>3</th>\n",
       "      <td>7421966</td>\n",
       "      <td>https://www.airbnb.com/rooms/7421966</td>\n",
       "      <td>20160104002432</td>\n",
       "      <td>2016-01-04</td>\n",
       "      <td>Queen Anne Chateau</td>\n",
       "      <td>A charming apartment that sits atop Queen Anne hill, northwest facing bay windows with warm afternoon light setting over the Olympic Cascades. The space is perfect for one or two but can accommodate up to three on the fold-out memory foam cot.</td>\n",
       "      <td>NaN</td>\n",
       "      <td>A charming apartment that sits atop Queen Anne hill, northwest facing bay windows with warm afternoon light setting over the Olympic Cascades. The space is perfect for one or two but can accommodate up to three on the fold-out memory foam cot.</td>\n",
       "      <td>none</td>\n",
       "      <td>NaN</td>\n",
       "      <td>NaN</td>\n",
       "      <td>NaN</td>\n",
       "      <td>NaN</td>\n",
       "      <td>NaN</td>\n",
       "      <td>https://a0.muscache.com/ac/pictures/94146944/6302c803_original.jpg?interpolation=lanczos-none&amp;size=large_cover&amp;output-format=jpg&amp;output-quality=70</td>\n",
       "      <td>NaN</td>\n",
       "      <td>9851441</td>\n",
       "      <td>https://www.airbnb.com/users/show/9851441</td>\n",
       "      <td>Emily</td>\n",
       "      <td>2013-11-06</td>\n",
       "      <td>Seattle, Washington, United States</td>\n",
       "      <td>NaN</td>\n",
       "      <td>NaN</td>\n",
       "      <td>NaN</td>\n",
       "      <td>NaN</td>\n",
       "      <td>f</td>\n",
       "      <td>https://a2.muscache.com/ac/users/9851441/profile_pic/1414045273/original.jpg?interpolation=lanczos-none&amp;crop=w:w;*,*&amp;crop=h:h;*,*&amp;resize=50:*&amp;output-format=jpg&amp;output-quality=70</td>\n",
       "      <td>https://a2.muscache.com/ac/users/9851441/profile_pic/1414045273/original.jpg?interpolation=lanczos-none&amp;crop=w:w;*,*&amp;crop=h:h;*,*&amp;resize=225:*&amp;output-format=jpg&amp;output-quality=70</td>\n",
       "      <td>Queen Anne</td>\n",
       "      <td>1.0</td>\n",
       "      <td>1.0</td>\n",
       "      <td>['email', 'phone', 'facebook', 'reviews', 'jumio']</td>\n",
       "      <td>t</td>\n",
       "      <td>t</td>\n",
       "      <td>8th Avenue West, Seattle, WA 98119, United States</td>\n",
       "      <td>Queen Anne</td>\n",
       "      <td>West Queen Anne</td>\n",
       "      <td>Queen Anne</td>\n",
       "      <td>Seattle</td>\n",
       "      <td>WA</td>\n",
       "      <td>98119</td>\n",
       "      <td>Seattle</td>\n",
       "      <td>Seattle, WA</td>\n",
       "      <td>US</td>\n",
       "      <td>United States</td>\n",
       "      <td>47.638473</td>\n",
       "      <td>-122.369279</td>\n",
       "      <td>t</td>\n",
       "      <td>Apartment</td>\n",
       "      <td>Entire home/apt</td>\n",
       "      <td>3</td>\n",
       "      <td>1.0</td>\n",
       "      <td>0.0</td>\n",
       "      <td>2.0</td>\n",
       "      <td>Real Bed</td>\n",
       "      <td>{Internet,\"Wireless Internet\",Kitchen,\"Indoor Fireplace\",Heating,\"Family/Kid Friendly\",Washer,Dryer,\"Smoke Detector\",\"Carbon Monoxide Detector\",\"Safety Card\",\"Fire Extinguisher\",Essentials,Shampoo}</td>\n",
       "      <td>NaN</td>\n",
       "      <td>$100.00</td>\n",
       "      <td>$650.00</td>\n",
       "      <td>$2,300.00</td>\n",
       "      <td>NaN</td>\n",
       "      <td>NaN</td>\n",
       "      <td>1</td>\n",
       "      <td>$0.00</td>\n",
       "      <td>1</td>\n",
       "      <td>1125</td>\n",
       "      <td>6 months ago</td>\n",
       "      <td>t</td>\n",
       "      <td>0</td>\n",
       "      <td>0</td>\n",
       "      <td>0</td>\n",
       "      <td>143</td>\n",
       "      <td>2016-01-04</td>\n",
       "      <td>0</td>\n",
       "      <td>NaN</td>\n",
       "      <td>NaN</td>\n",
       "      <td>NaN</td>\n",
       "      <td>NaN</td>\n",
       "      <td>NaN</td>\n",
       "      <td>NaN</td>\n",
       "      <td>NaN</td>\n",
       "      <td>NaN</td>\n",
       "      <td>NaN</td>\n",
       "      <td>f</td>\n",
       "      <td>NaN</td>\n",
       "      <td>WASHINGTON</td>\n",
       "      <td>f</td>\n",
       "      <td>flexible</td>\n",
       "      <td>f</td>\n",
       "      <td>f</td>\n",
       "      <td>1</td>\n",
       "      <td>NaN</td>\n",
       "    </tr>\n",
       "    <tr>\n",
       "      <th>4</th>\n",
       "      <td>278830</td>\n",
       "      <td>https://www.airbnb.com/rooms/278830</td>\n",
       "      <td>20160104002432</td>\n",
       "      <td>2016-01-04</td>\n",
       "      <td>Charming craftsman 3 bdm house</td>\n",
       "      <td>Cozy family craftman house in beautiful neighborhood of Queen Anne, Seattle, Washinton. 3 bedrooms, can accomodate up to 6 people. 1,200 sq. feet space is your oasis. Perfect location!</td>\n",
       "      <td>Cozy family craftman house in beautiful neighborhood of Queen Anne, Seattle, Washinton. 3 bedrooms, can accomodate up to 6 people. 1,200 sq. feet space is your oasis. Perfect location, walking distance to Whole Foods Market, a 7 minute drive from the Seattle Center (Space Needle, chihuly garden and glass, Children's Museum, Key Arena)! Across the street from golf course- 2 min walk! Relax, sun bath and watch the ferry boats go by on the large outdoor deck with a view of Elliot Bay!</td>\n",
       "      <td>Cozy family craftman house in beautiful neighborhood of Queen Anne, Seattle, Washinton. 3 bedrooms, can accomodate up to 6 people. 1,200 sq. feet space is your oasis. Perfect location! Cozy family craftman house in beautiful neighborhood of Queen Anne, Seattle, Washinton. 3 bedrooms, can accomodate up to 6 people. 1,200 sq. feet space is your oasis. Perfect location, walking distance to Whole Foods Market, a 7 minute drive from the Seattle Center (Space Needle, chihuly garden and glass, Children's Museum, Key Arena)! Across the street from golf course- 2 min walk! Relax, sun bath and watch the ferry boats go by on the large outdoor deck with a view of Elliot Bay!   Internet, cable TV with HBO, 3 bedrooms and 2 bathrooms each equipped with a bed for 2 (King, Queen, Queen). Washer and dryer in the unit. Fully stocked kitchen with high end All-Clad cookware. For your peace of mind, we have provided a first aid kit and an emergency kit equipped with water and food. We are always availa...</td>\n",
       "      <td>none</td>\n",
       "      <td>We are in the beautiful neighborhood of Queen Anne on 14th Ave. W. A 5 minute walk from Whole Foods Market.  Take a 5 minute drive south or north and find yourself in the lively neighborhood of Belltown or charming neighborhood of Ballard (respectively). Upper Queen Anne shops and restaurants are a 20 minute walk or a quick 5 minute drive up the hill.  The Seattle Center (The Space Needle, the Children's Museum, EMP, Pacific Science Center, Chihuly Garden and Glass) is a 7 minute drive.</td>\n",
       "      <td>Belltown</td>\n",
       "      <td>The nearest public transit bus (D Line) is 2 blocks away next to the Whole Foods Market on 15th Ave. W. Downtown is a 15 minute bus ride or a 7 minute drive. The light rail located at Westlake Center in downtown runs to the airport. Parking: street parking is available - unlimited and no zoning</td>\n",
       "      <td>NaN</td>\n",
       "      <td>NaN</td>\n",
       "      <td>https://a1.muscache.com/ac/pictures/6120468/b0a55f2e_original.jpg?interpolation=lanczos-none&amp;size=large_cover&amp;output-format=jpg&amp;output-quality=70</td>\n",
       "      <td>NaN</td>\n",
       "      <td>1452570</td>\n",
       "      <td>https://www.airbnb.com/users/show/1452570</td>\n",
       "      <td>Emily</td>\n",
       "      <td>2011-11-29</td>\n",
       "      <td>Seattle, Washington, United States</td>\n",
       "      <td>Hi, I live in Seattle, Washington but I'm originally from Southern California. I am an industrial designer. We (My husband Daniel and our little boy Oliver) love to travel and host people at our house. We appreciate good design, vintage finds and culture. We love to collect experiences more than stuff and hope that is reflected in our house and lives.</td>\n",
       "      <td>within an hour</td>\n",
       "      <td>100%</td>\n",
       "      <td>NaN</td>\n",
       "      <td>f</td>\n",
       "      <td>https://a0.muscache.com/ac/users/1452570/profile_pic/1322552171/original.jpg?interpolation=lanczos-none&amp;crop=w:w;*,*&amp;crop=h:h;*,*&amp;resize=50:*&amp;output-format=jpg&amp;output-quality=70</td>\n",
       "      <td>https://a0.muscache.com/ac/users/1452570/profile_pic/1322552171/original.jpg?interpolation=lanczos-none&amp;crop=w:w;*,*&amp;crop=h:h;*,*&amp;resize=225:*&amp;output-format=jpg&amp;output-quality=70</td>\n",
       "      <td>Queen Anne</td>\n",
       "      <td>2.0</td>\n",
       "      <td>2.0</td>\n",
       "      <td>['email', 'phone', 'facebook', 'reviews', 'kba']</td>\n",
       "      <td>t</td>\n",
       "      <td>t</td>\n",
       "      <td>14th Ave W, Seattle, WA 98119, United States</td>\n",
       "      <td>Queen Anne</td>\n",
       "      <td>West Queen Anne</td>\n",
       "      <td>Queen Anne</td>\n",
       "      <td>Seattle</td>\n",
       "      <td>WA</td>\n",
       "      <td>98119</td>\n",
       "      <td>Seattle</td>\n",
       "      <td>Seattle, WA</td>\n",
       "      <td>US</td>\n",
       "      <td>United States</td>\n",
       "      <td>47.632918</td>\n",
       "      <td>-122.372471</td>\n",
       "      <td>t</td>\n",
       "      <td>House</td>\n",
       "      <td>Entire home/apt</td>\n",
       "      <td>6</td>\n",
       "      <td>2.0</td>\n",
       "      <td>3.0</td>\n",
       "      <td>3.0</td>\n",
       "      <td>Real Bed</td>\n",
       "      <td>{TV,\"Cable TV\",Internet,\"Wireless Internet\",Kitchen,Heating,\"Family/Kid Friendly\",\"Smoke Detector\",\"Carbon Monoxide Detector\",\"First Aid Kit\",\"Fire Extinguisher\",Essentials,Shampoo}</td>\n",
       "      <td>NaN</td>\n",
       "      <td>$450.00</td>\n",
       "      <td>NaN</td>\n",
       "      <td>NaN</td>\n",
       "      <td>$700.00</td>\n",
       "      <td>$125.00</td>\n",
       "      <td>6</td>\n",
       "      <td>$15.00</td>\n",
       "      <td>1</td>\n",
       "      <td>1125</td>\n",
       "      <td>7 weeks ago</td>\n",
       "      <td>t</td>\n",
       "      <td>30</td>\n",
       "      <td>60</td>\n",
       "      <td>90</td>\n",
       "      <td>365</td>\n",
       "      <td>2016-01-04</td>\n",
       "      <td>38</td>\n",
       "      <td>2012-07-10</td>\n",
       "      <td>2015-10-24</td>\n",
       "      <td>92.0</td>\n",
       "      <td>9.0</td>\n",
       "      <td>9.0</td>\n",
       "      <td>10.0</td>\n",
       "      <td>10.0</td>\n",
       "      <td>9.0</td>\n",
       "      <td>9.0</td>\n",
       "      <td>f</td>\n",
       "      <td>NaN</td>\n",
       "      <td>WASHINGTON</td>\n",
       "      <td>f</td>\n",
       "      <td>strict</td>\n",
       "      <td>f</td>\n",
       "      <td>f</td>\n",
       "      <td>1</td>\n",
       "      <td>0.89</td>\n",
       "    </tr>\n",
       "  </tbody>\n",
       "</table>\n",
       "</div>"
      ],
      "text/plain": [
       "        id                           listing_url       scrape_id last_scraped  \\\n",
       "0   241032   https://www.airbnb.com/rooms/241032  20160104002432   2016-01-04   \n",
       "1   953595   https://www.airbnb.com/rooms/953595  20160104002432   2016-01-04   \n",
       "2  3308979  https://www.airbnb.com/rooms/3308979  20160104002432   2016-01-04   \n",
       "3  7421966  https://www.airbnb.com/rooms/7421966  20160104002432   2016-01-04   \n",
       "4   278830   https://www.airbnb.com/rooms/278830  20160104002432   2016-01-04   \n",
       "\n",
       "                                  name  \\\n",
       "0         Stylish Queen Anne Apartment   \n",
       "1   Bright & Airy Queen Anne Apartment   \n",
       "2  New Modern House-Amazing water view   \n",
       "3                   Queen Anne Chateau   \n",
       "4       Charming craftsman 3 bdm house   \n",
       "\n",
       "                                                                                                                                                                                                                                                     summary  \\\n",
       "0                                                                                                                                                                                                                                                        NaN   \n",
       "1  Chemically sensitive? We've removed the irritants triggering allergy or asthma attacks, like carpeting, forced air & used pillows, all culprits that harbor fungus, mold & bacteria.  No smoking, no pets.  Designed for healthy living, so breathe easy.   \n",
       "2          New modern house built in 2013.  Spectacular sunset/water views and light, rooftop deck and lounge area, hot tub, 5 bedrooms, gourmet kitchen.  Perfect for 2-3 families, walk to downtown.  Located in highly desirable Queen Anne neighborhood.   \n",
       "3        A charming apartment that sits atop Queen Anne hill, northwest facing bay windows with warm afternoon light setting over the Olympic Cascades. The space is perfect for one or two but can accommodate up to three on the fold-out memory foam cot.   \n",
       "4                                                                   Cozy family craftman house in beautiful neighborhood of Queen Anne, Seattle, Washinton. 3 bedrooms, can accomodate up to 6 people. 1,200 sq. feet space is your oasis. Perfect location!   \n",
       "\n",
       "                                                                                                                                                                                                                                                                                                                                                                                                                                                                                                                                                                                                                                                                                                                                                                                                                                                                                                                                                                                                                                     space  \\\n",
       "0  Make your self at home in this charming one-bedroom apartment, centrally-located on the west side of Queen Anne hill.   This elegantly-decorated, completely private apartment (bottom unit of a duplex) has an open floor plan, bamboo floors, a fully equipped kitchen, a TV,  DVD player, basic cable, and a very cozy bedroom with a queen-size bed. The unit sleeps up to four (two in the bedroom and two on the very comfortable fold out couch, linens included) and includes free WiFi and laundry. The apartment opens onto a private deck, complete with it's own BBQ, overlooking a garden and a forest of black bamboo.    The Apartment is perfectly-located just one block from the bus lines where you can catch a bus and be downtown Seattle in fifteen minutes or historic Ballard in ten or a quick five-minute walk will bring you to Whole Foods and Peet's Coffee or take a fifteen minute walk to the top of Queen Anne Hill where you will find a variety of eclectic shops, bars, and restaurants. There i...   \n",
       "1  Beautiful, hypoallergenic apartment in an extremely safe, quiet and pedestrian-friendly section of Queen Anne.  A leafy-green location that puts the best of Seattle at your doorstep. Free WiFi, free parking, ...even free pillows!  What's special about this place? Hypo-allergenic bedding, mattresses/covers and new pillows with each rental. (So feel free to take your new pillows with you!)  A beautiful restoration mixing period details & modern sensibilities: Hardwood floors throughout, white subway tile, low/no VOCs & non-toxic paints keep this home-away-from-home clean, smart and healthy. Radiant heat and oil radiators mean no blowing hot air or dust.  Great Amenities: Free WiFi & internet TV (LED flatscreen). Fully-equipped kitchen with stainless-steel appliances, sink & disposal. Large washer & dryer.  Iron/ironing board. Hairdryer. Plenty of storage. Convenient parking, both on- and off-street. The Best Location: Enjoy Seattle's celebrated Macrina bakery, neighborhood cafes, bou...   \n",
       "2  Our house is modern, light and fresh with a warm simple palette accented with barnwood, steel and concrete.  Open living spaces for entertaining, gourmet kitchen, deck off the kitchen, reading nook, half bath and smaller tv room off kitchen.  Fireplace with sofa and sitting area. Basement room is great for kids...this room has patio access and a garage door that opens into the space with basketball hoop right outside.  A queen bedroom and full bath are in the basement with concrete heated floors.  A queen sleeper sofa is in the tv area in the basement.  This room has a door if privacy is needed.  Great for a second family with kids.  The 2nd floor has 4 bedrooms (one queen in master, one twin bedroom, another bedroom has twin bunk beds and the last bedroom has a queen bed. Their are 2 full baths, both with double sinks on this floor(one in the master).  The 3rd floor is a very large deck, hot tub, kitchen prep area with fridge, lounge space for movies and 3/4 bath (rain head shower...   \n",
       "3                                                                                                                                                                                                                                                                                                                                                                                                                                                                                                                                                                                                                                                                                                                                                                                                                                                                                                                                                                                                                                      NaN   \n",
       "4                                                                                                                                                                                                                                                                                                                                                                                                                                                                                                                                 Cozy family craftman house in beautiful neighborhood of Queen Anne, Seattle, Washinton. 3 bedrooms, can accomodate up to 6 people. 1,200 sq. feet space is your oasis. Perfect location, walking distance to Whole Foods Market, a 7 minute drive from the Seattle Center (Space Needle, chihuly garden and glass, Children's Museum, Key Arena)! Across the street from golf course- 2 min walk! Relax, sun bath and watch the ferry boats go by on the large outdoor deck with a view of Elliot Bay!     \n",
       "\n",
       "                                                                                                                                                                                                                                                                                                                                                                                                                                                                                                                                                                                                                                                                                                                                                                                                                                                                                                                                                                                                                               description  \\\n",
       "0  Make your self at home in this charming one-bedroom apartment, centrally-located on the west side of Queen Anne hill.   This elegantly-decorated, completely private apartment (bottom unit of a duplex) has an open floor plan, bamboo floors, a fully equipped kitchen, a TV,  DVD player, basic cable, and a very cozy bedroom with a queen-size bed. The unit sleeps up to four (two in the bedroom and two on the very comfortable fold out couch, linens included) and includes free WiFi and laundry. The apartment opens onto a private deck, complete with it's own BBQ, overlooking a garden and a forest of black bamboo.    The Apartment is perfectly-located just one block from the bus lines where you can catch a bus and be downtown Seattle in fifteen minutes or historic Ballard in ten or a quick five-minute walk will bring you to Whole Foods and Peet's Coffee or take a fifteen minute walk to the top of Queen Anne Hill where you will find a variety of eclectic shops, bars, and restaurants. There i...   \n",
       "1  Chemically sensitive? We've removed the irritants triggering allergy or asthma attacks, like carpeting, forced air & used pillows, all culprits that harbor fungus, mold & bacteria.  No smoking, no pets.  Designed for healthy living, so breathe easy. Beautiful, hypoallergenic apartment in an extremely safe, quiet and pedestrian-friendly section of Queen Anne.  A leafy-green location that puts the best of Seattle at your doorstep. Free WiFi, free parking, ...even free pillows!  What's special about this place? Hypo-allergenic bedding, mattresses/covers and new pillows with each rental. (So feel free to take your new pillows with you!)  A beautiful restoration mixing period details & modern sensibilities: Hardwood floors throughout, white subway tile, low/no VOCs & non-toxic paints keep this home-away-from-home clean, smart and healthy. Radiant heat and oil radiators mean no blowing hot air or dust.  Great Amenities: Free WiFi & internet TV (LED flatscreen). Fully-equipped kitchen wit...   \n",
       "2  New modern house built in 2013.  Spectacular sunset/water views and light, rooftop deck and lounge area, hot tub, 5 bedrooms, gourmet kitchen.  Perfect for 2-3 families, walk to downtown.  Located in highly desirable Queen Anne neighborhood. Our house is modern, light and fresh with a warm simple palette accented with barnwood, steel and concrete.  Open living spaces for entertaining, gourmet kitchen, deck off the kitchen, reading nook, half bath and smaller tv room off kitchen.  Fireplace with sofa and sitting area. Basement room is great for kids...this room has patio access and a garage door that opens into the space with basketball hoop right outside.  A queen bedroom and full bath are in the basement with concrete heated floors.  A queen sleeper sofa is in the tv area in the basement.  This room has a door if privacy is needed.  Great for a second family with kids.  The 2nd floor has 4 bedrooms (one queen in master, one twin bedroom, another bedroom has twin bunk beds and the ...   \n",
       "3                                                                                                                                                                                                                                                                                                                                                                                                                                                                                                                                                                                                                                                                                                                                                                                      A charming apartment that sits atop Queen Anne hill, northwest facing bay windows with warm afternoon light setting over the Olympic Cascades. The space is perfect for one or two but can accommodate up to three on the fold-out memory foam cot.   \n",
       "4  Cozy family craftman house in beautiful neighborhood of Queen Anne, Seattle, Washinton. 3 bedrooms, can accomodate up to 6 people. 1,200 sq. feet space is your oasis. Perfect location! Cozy family craftman house in beautiful neighborhood of Queen Anne, Seattle, Washinton. 3 bedrooms, can accomodate up to 6 people. 1,200 sq. feet space is your oasis. Perfect location, walking distance to Whole Foods Market, a 7 minute drive from the Seattle Center (Space Needle, chihuly garden and glass, Children's Museum, Key Arena)! Across the street from golf course- 2 min walk! Relax, sun bath and watch the ferry boats go by on the large outdoor deck with a view of Elliot Bay!   Internet, cable TV with HBO, 3 bedrooms and 2 bathrooms each equipped with a bed for 2 (King, Queen, Queen). Washer and dryer in the unit. Fully stocked kitchen with high end All-Clad cookware. For your peace of mind, we have provided a first aid kit and an emergency kit equipped with water and food. We are always availa...   \n",
       "\n",
       "  experiences_offered  \\\n",
       "0                none   \n",
       "1                none   \n",
       "2                none   \n",
       "3                none   \n",
       "4                none   \n",
       "\n",
       "                                                                                                                                                                                                                                                                                                                                                                                                                                                                                                                                                                                                                                                                           neighborhood_overview  \\\n",
       "0                                                                                                                                                                                                                                                                                                                                                                                                                                                                                                                                                                                                                                                                                            NaN   \n",
       "1                                                                                                                                                                                                                                                                                                                                                                                                                                                                                                                        Queen Anne is a wonderful, truly functional village.  You can walk everywhere... for coffee, for groceries, for a night out, for breathtaking views of the Puget Sound.   \n",
       "2  Upper Queen Anne is a charming neighborhood full of a mix of beautifully maintained, turn-of-the-century craftsman homes, tudors and modern homes.  The \"main drag\" is Queen Anne Ave. with a great selection of boutiques, restaurants, coffee shops and bars.  Upper Queen Anne is just 1.5 miles from downtown Seattle, and situated on a hilltop with stunning panoramic views in every direction -- downtown Seattle, the Space Needle and Mt. Rainier to the southeast, Elliott Bay to the southwest, the Olympic Mountains to the west and the Cascade Mountains to the east. If you're a walker, you'll love the 4-mile \"Crown of Queen Anne\" loop which takes in all of these views!   \n",
       "3                                                                                                                                                                                                                                                                                                                                                                                                                                                                                                                                                                                                                                                                                            NaN   \n",
       "4                                                                                                                                                                                   We are in the beautiful neighborhood of Queen Anne on 14th Ave. W. A 5 minute walk from Whole Foods Market.  Take a 5 minute drive south or north and find yourself in the lively neighborhood of Belltown or charming neighborhood of Ballard (respectively). Upper Queen Anne shops and restaurants are a 20 minute walk or a quick 5 minute drive up the hill.  The Seattle Center (The Space Needle, the Children's Museum, EMP, Pacific Science Center, Chihuly Garden and Glass) is a 7 minute drive.    \n",
       "\n",
       "                                                                                                                                                                                                                                                                                                                                                                                                                                                                                                                                                                                                                                                                                                                                                                                                                                                                                                                                                                                                                                     notes  \\\n",
       "0                                                                                                                                                                                                                                                                                                                                                                                                                                                                                                                                                                                                                                                                                                                                                                                                                                                                                                                                                                                                                                      NaN   \n",
       "1  What's up with the free pillows?  Our home was renovated and restored with health & safety in mind, especially the elimination/reduction of indoor allergens, toxins & other pollutants.  (For this reason, we have no carpets, just hardwood & slate floors, with radiant heat.)  Pillows tend to house a LOT of allergens over time, even when just used by a single owner.  The statistics make many people feel pretty queasy but, essentially, pillows become great breeding grounds for bacteria and dust mites, not to mention drool, hair oils and perspiration. Since most people sweat more than a pint a night, the pillow can also easily trap mildew and mold. We use dust mite protectors for mattresses and duvets, but haven't found any that work well for pillows that maintain comfort/elasticity without the use of outgassing materials.  So, I let the guests take their pillows but ask that they leave the pillowcases. And if you leave the pillows behind, they'll be donated to a local women's shelter t...   \n",
       "2                                                                                                                                                                                                                                                                                                                                                                                                                                                                                                                                                                                                                                                                                                                                                                                                                                                                              Our house is located just 5 short blocks to Top Pot Doughnuts, Tribunali pizza, Caffe Fiore, Trader Joes and Molly Moons.  Just 8 blocks to Queen Anne Ave.   \n",
       "3                                                                                                                                                                                                                                                                                                                                                                                                                                                                                                                                                                                                                                                                                                                                                                                                                                                                                                                                                                                                                                      NaN   \n",
       "4                                                                                                                                                                                                                                                                                                                                                                                                                                                                                                                                                                                                                                                                                                                                                                                                                                                                                                                                                                                                                                Belltown    \n",
       "\n",
       "                                                                                                                                                                                                                                                                                                   transit  \\\n",
       "0                                                                                                                                                                                                                                                                                                      NaN   \n",
       "1                                                                                                                                       Convenient bus stops are just down the block, if you're headed downtown or further afield to explore.  Zip cars are also strategically located on Queen Anne hill.   \n",
       "2                                                                                               A bus stop is just 2 blocks away.   Easy bus access to all the sites: Lower Queen Anne, Seattle Center, The Space Needle, Experience Music Project, Chihuly Glass Museum, Pacific Science Center and more.   \n",
       "3                                                                                                                                                                                                                                                                                                      NaN   \n",
       "4  The nearest public transit bus (D Line) is 2 blocks away next to the Whole Foods Market on 15th Ave. W. Downtown is a 15 minute bus ride or a 7 minute drive. The light rail located at Westlake Center in downtown runs to the airport. Parking: street parking is available - unlimited and no zoning   \n",
       "\n",
       "                                                                                                                                  thumbnail_url  \\\n",
       "0                                                                                                                                           NaN   \n",
       "1  https://a0.muscache.com/ac/pictures/14409893/f8e3ed8d_original.jpg?interpolation=lanczos-none&size=small&output-format=jpg&output-quality=70   \n",
       "2                                                                                                                                           NaN   \n",
       "3                                                                                                                                           NaN   \n",
       "4                                                                                                                                           NaN   \n",
       "\n",
       "                                                                             medium_url  \\\n",
       "0                                                                                   NaN   \n",
       "1  https://a0.muscache.com/im/pictures/14409893/f8e3ed8d_original.jpg?aki_policy=medium   \n",
       "2                                                                                   NaN   \n",
       "3                                                                                   NaN   \n",
       "4                                                                                   NaN   \n",
       "\n",
       "                                                                                                                                                    picture_url  \\\n",
       "0            https://a1.muscache.com/ac/pictures/67560560/cfe47d69_original.jpg?interpolation=lanczos-none&size=large_cover&output-format=jpg&output-quality=70   \n",
       "1            https://a0.muscache.com/ac/pictures/14409893/f8e3ed8d_original.jpg?interpolation=lanczos-none&size=large_cover&output-format=jpg&output-quality=70   \n",
       "2  https://a2.muscache.com/ac/pictures/b4324e0f-a41b-4614-85a5-0e58c1983b99.jpg?interpolation=lanczos-none&size=large_cover&output-format=jpg&output-quality=70   \n",
       "3            https://a0.muscache.com/ac/pictures/94146944/6302c803_original.jpg?interpolation=lanczos-none&size=large_cover&output-format=jpg&output-quality=70   \n",
       "4             https://a1.muscache.com/ac/pictures/6120468/b0a55f2e_original.jpg?interpolation=lanczos-none&size=large_cover&output-format=jpg&output-quality=70   \n",
       "\n",
       "                                                                                                                                         xl_picture_url  \\\n",
       "0                                                                                                                                                   NaN   \n",
       "1  https://a0.muscache.com/ac/pictures/14409893/f8e3ed8d_original.jpg?interpolation=lanczos-none&size=x_large_cover&output-format=jpg&output-quality=70   \n",
       "2                                                                                                                                                   NaN   \n",
       "3                                                                                                                                                   NaN   \n",
       "4                                                                                                                                                   NaN   \n",
       "\n",
       "    host_id                                    host_url host_name  host_since  \\\n",
       "0    956883    https://www.airbnb.com/users/show/956883     Maija  2011-08-11   \n",
       "1   5177328   https://www.airbnb.com/users/show/5177328    Andrea  2013-02-21   \n",
       "2  16708587  https://www.airbnb.com/users/show/16708587      Jill  2014-06-12   \n",
       "3   9851441   https://www.airbnb.com/users/show/9851441     Emily  2013-11-06   \n",
       "4   1452570   https://www.airbnb.com/users/show/1452570     Emily  2011-11-29   \n",
       "\n",
       "                        host_location  \\\n",
       "0  Seattle, Washington, United States   \n",
       "1  Seattle, Washington, United States   \n",
       "2  Seattle, Washington, United States   \n",
       "3  Seattle, Washington, United States   \n",
       "4  Seattle, Washington, United States   \n",
       "\n",
       "                                                                                                                                                                                                                                                                                                                                                                             host_about  \\\n",
       "0  I am an artist, interior designer, and run a small landscape business. My life revolves around beauty wherever I find it or create it. I grew up in Seattle and love this city for the people, it's natural beauty and don't know anywhere else I would rather call home. I love to travel and try to do so as much as possible and am excited to be a part of the airbnb community!   \n",
       "1                                                                                                                                                                                                                                                                                                            Living east coast/left coast/overseas.  Time is short & it's a big world.    \n",
       "2                               i love living in Seattle.  i grew up in the mid-west but the Pacific North West has always felt like home.  i am a mom to 3 beautiful kids, love playing tennis, cooking, reading and being with friends and family.  i manage a few long-term rental properties as well as consult and manage AirBnB properties for those living in the Seattle area.    \n",
       "3                                                                                                                                                                                                                                                                                                                                                                                   NaN   \n",
       "4                    Hi, I live in Seattle, Washington but I'm originally from Southern California. I am an industrial designer. We (My husband Daniel and our little boy Oliver) love to travel and host people at our house. We appreciate good design, vintage finds and culture. We love to collect experiences more than stuff and hope that is reflected in our house and lives.    \n",
       "\n",
       "   host_response_time host_response_rate host_acceptance_rate  \\\n",
       "0  within a few hours                96%                 100%   \n",
       "1      within an hour                98%                 100%   \n",
       "2  within a few hours                67%                 100%   \n",
       "3                 NaN                NaN                  NaN   \n",
       "4      within an hour               100%                  NaN   \n",
       "\n",
       "  host_is_superhost  \\\n",
       "0                 f   \n",
       "1                 t   \n",
       "2                 f   \n",
       "3                 f   \n",
       "4                 f   \n",
       "\n",
       "                                                                                                                                                                   host_thumbnail_url  \\\n",
       "0    https://a0.muscache.com/ac/users/956883/profile_pic/1318103129/original.jpg?interpolation=lanczos-none&crop=w:w;*,*&crop=h:h;*,*&resize=50:*&output-format=jpg&output-quality=70   \n",
       "1   https://a0.muscache.com/ac/users/5177328/profile_pic/1361540767/original.jpg?interpolation=lanczos-none&crop=w:w;*,*&crop=h:h;*,*&resize=50:*&output-format=jpg&output-quality=70   \n",
       "2  https://a1.muscache.com/ac/users/16708587/profile_pic/1428941043/original.jpg?interpolation=lanczos-none&crop=w:w;*,*&crop=h:h;*,*&resize=50:*&output-format=jpg&output-quality=70   \n",
       "3   https://a2.muscache.com/ac/users/9851441/profile_pic/1414045273/original.jpg?interpolation=lanczos-none&crop=w:w;*,*&crop=h:h;*,*&resize=50:*&output-format=jpg&output-quality=70   \n",
       "4   https://a0.muscache.com/ac/users/1452570/profile_pic/1322552171/original.jpg?interpolation=lanczos-none&crop=w:w;*,*&crop=h:h;*,*&resize=50:*&output-format=jpg&output-quality=70   \n",
       "\n",
       "                                                                                                                                                                      host_picture_url  \\\n",
       "0    https://a0.muscache.com/ac/users/956883/profile_pic/1318103129/original.jpg?interpolation=lanczos-none&crop=w:w;*,*&crop=h:h;*,*&resize=225:*&output-format=jpg&output-quality=70   \n",
       "1   https://a0.muscache.com/ac/users/5177328/profile_pic/1361540767/original.jpg?interpolation=lanczos-none&crop=w:w;*,*&crop=h:h;*,*&resize=225:*&output-format=jpg&output-quality=70   \n",
       "2  https://a1.muscache.com/ac/users/16708587/profile_pic/1428941043/original.jpg?interpolation=lanczos-none&crop=w:w;*,*&crop=h:h;*,*&resize=225:*&output-format=jpg&output-quality=70   \n",
       "3   https://a2.muscache.com/ac/users/9851441/profile_pic/1414045273/original.jpg?interpolation=lanczos-none&crop=w:w;*,*&crop=h:h;*,*&resize=225:*&output-format=jpg&output-quality=70   \n",
       "4   https://a0.muscache.com/ac/users/1452570/profile_pic/1322552171/original.jpg?interpolation=lanczos-none&crop=w:w;*,*&crop=h:h;*,*&resize=225:*&output-format=jpg&output-quality=70   \n",
       "\n",
       "  host_neighbourhood  host_listings_count  host_total_listings_count  \\\n",
       "0         Queen Anne                  3.0                        3.0   \n",
       "1         Queen Anne                  6.0                        6.0   \n",
       "2         Queen Anne                  2.0                        2.0   \n",
       "3         Queen Anne                  1.0                        1.0   \n",
       "4         Queen Anne                  2.0                        2.0   \n",
       "\n",
       "                                               host_verifications  \\\n",
       "0                            ['email', 'phone', 'reviews', 'kba']   \n",
       "1  ['email', 'phone', 'facebook', 'linkedin', 'reviews', 'jumio']   \n",
       "2                ['email', 'phone', 'google', 'reviews', 'jumio']   \n",
       "3              ['email', 'phone', 'facebook', 'reviews', 'jumio']   \n",
       "4                ['email', 'phone', 'facebook', 'reviews', 'kba']   \n",
       "\n",
       "  host_has_profile_pic host_identity_verified  \\\n",
       "0                    t                      t   \n",
       "1                    t                      t   \n",
       "2                    t                      t   \n",
       "3                    t                      t   \n",
       "4                    t                      t   \n",
       "\n",
       "                                              street neighbourhood  \\\n",
       "0      Gilman Dr W, Seattle, WA 98119, United States    Queen Anne   \n",
       "1  7th Avenue West, Seattle, WA 98119, United States    Queen Anne   \n",
       "2  West Lee Street, Seattle, WA 98119, United States    Queen Anne   \n",
       "3  8th Avenue West, Seattle, WA 98119, United States    Queen Anne   \n",
       "4       14th Ave W, Seattle, WA 98119, United States    Queen Anne   \n",
       "\n",
       "  neighbourhood_cleansed neighbourhood_group_cleansed     city state zipcode  \\\n",
       "0        West Queen Anne                   Queen Anne  Seattle    WA   98119   \n",
       "1        West Queen Anne                   Queen Anne  Seattle    WA   98119   \n",
       "2        West Queen Anne                   Queen Anne  Seattle    WA   98119   \n",
       "3        West Queen Anne                   Queen Anne  Seattle    WA   98119   \n",
       "4        West Queen Anne                   Queen Anne  Seattle    WA   98119   \n",
       "\n",
       "    market smart_location country_code        country   latitude   longitude  \\\n",
       "0  Seattle    Seattle, WA           US  United States  47.636289 -122.371025   \n",
       "1  Seattle    Seattle, WA           US  United States  47.639123 -122.365666   \n",
       "2  Seattle    Seattle, WA           US  United States  47.629724 -122.369483   \n",
       "3  Seattle    Seattle, WA           US  United States  47.638473 -122.369279   \n",
       "4  Seattle    Seattle, WA           US  United States  47.632918 -122.372471   \n",
       "\n",
       "  is_location_exact property_type        room_type  accommodates  bathrooms  \\\n",
       "0                 t     Apartment  Entire home/apt             4        1.0   \n",
       "1                 t     Apartment  Entire home/apt             4        1.0   \n",
       "2                 t         House  Entire home/apt            11        4.5   \n",
       "3                 t     Apartment  Entire home/apt             3        1.0   \n",
       "4                 t         House  Entire home/apt             6        2.0   \n",
       "\n",
       "   bedrooms  beds  bed_type  \\\n",
       "0       1.0   1.0  Real Bed   \n",
       "1       1.0   1.0  Real Bed   \n",
       "2       5.0   7.0  Real Bed   \n",
       "3       0.0   2.0  Real Bed   \n",
       "4       3.0   3.0  Real Bed   \n",
       "\n",
       "                                                                                                                                                                                                                                                                                             amenities  \\\n",
       "0                                                                                                                                                                                   {TV,\"Cable TV\",Internet,\"Wireless Internet\",\"Air Conditioning\",Kitchen,Heating,\"Family/Kid Friendly\",Washer,Dryer}   \n",
       "1                                                  {TV,Internet,\"Wireless Internet\",Kitchen,\"Free Parking on Premises\",\"Buzzer/Wireless Intercom\",Heating,\"Family/Kid Friendly\",Washer,Dryer,\"Smoke Detector\",\"Carbon Monoxide Detector\",\"First Aid Kit\",\"Safety Card\",\"Fire Extinguisher\",Essentials}   \n",
       "2  {TV,\"Cable TV\",Internet,\"Wireless Internet\",\"Air Conditioning\",Kitchen,\"Free Parking on Premises\",\"Pets Allowed\",\"Pets live on this property\",Dog(s),Cat(s),\"Hot Tub\",\"Indoor Fireplace\",Heating,\"Family/Kid Friendly\",Washer,Dryer,\"Smoke Detector\",\"Carbon Monoxide Detector\",Essentials,Shampoo}   \n",
       "3                                                                                                {Internet,\"Wireless Internet\",Kitchen,\"Indoor Fireplace\",Heating,\"Family/Kid Friendly\",Washer,Dryer,\"Smoke Detector\",\"Carbon Monoxide Detector\",\"Safety Card\",\"Fire Extinguisher\",Essentials,Shampoo}   \n",
       "4                                                                                                                {TV,\"Cable TV\",Internet,\"Wireless Internet\",Kitchen,Heating,\"Family/Kid Friendly\",\"Smoke Detector\",\"Carbon Monoxide Detector\",\"First Aid Kit\",\"Fire Extinguisher\",Essentials,Shampoo}   \n",
       "\n",
       "   square_feet    price weekly_price monthly_price security_deposit  \\\n",
       "0          NaN   $85.00          NaN           NaN              NaN   \n",
       "1          NaN  $150.00    $1,000.00     $3,000.00          $100.00   \n",
       "2          NaN  $975.00          NaN           NaN        $1,000.00   \n",
       "3          NaN  $100.00      $650.00     $2,300.00              NaN   \n",
       "4          NaN  $450.00          NaN           NaN          $700.00   \n",
       "\n",
       "  cleaning_fee  guests_included extra_people  minimum_nights  maximum_nights  \\\n",
       "0          NaN                2        $5.00               1             365   \n",
       "1       $40.00                1        $0.00               2              90   \n",
       "2      $300.00               10       $25.00               4              30   \n",
       "3          NaN                1        $0.00               1            1125   \n",
       "4      $125.00                6       $15.00               1            1125   \n",
       "\n",
       "  calendar_updated has_availability  availability_30  availability_60  \\\n",
       "0      4 weeks ago                t               14               41   \n",
       "1            today                t               13               13   \n",
       "2      5 weeks ago                t                1                6   \n",
       "3     6 months ago                t                0                0   \n",
       "4      7 weeks ago                t               30               60   \n",
       "\n",
       "   availability_90  availability_365 calendar_last_scraped  number_of_reviews  \\\n",
       "0               71               346            2016-01-04                207   \n",
       "1               16               291            2016-01-04                 43   \n",
       "2               17               220            2016-01-04                 20   \n",
       "3                0               143            2016-01-04                  0   \n",
       "4               90               365            2016-01-04                 38   \n",
       "\n",
       "  first_review last_review  review_scores_rating  review_scores_accuracy  \\\n",
       "0   2011-11-01  2016-01-02                  95.0                    10.0   \n",
       "1   2013-08-19  2015-12-29                  96.0                    10.0   \n",
       "2   2014-07-30  2015-09-03                  97.0                    10.0   \n",
       "3          NaN         NaN                   NaN                     NaN   \n",
       "4   2012-07-10  2015-10-24                  92.0                     9.0   \n",
       "\n",
       "   review_scores_cleanliness  review_scores_checkin  \\\n",
       "0                       10.0                   10.0   \n",
       "1                       10.0                   10.0   \n",
       "2                       10.0                   10.0   \n",
       "3                        NaN                    NaN   \n",
       "4                        9.0                   10.0   \n",
       "\n",
       "   review_scores_communication  review_scores_location  review_scores_value  \\\n",
       "0                         10.0                     9.0                 10.0   \n",
       "1                         10.0                    10.0                 10.0   \n",
       "2                         10.0                    10.0                 10.0   \n",
       "3                          NaN                     NaN                  NaN   \n",
       "4                         10.0                     9.0                  9.0   \n",
       "\n",
       "  requires_license  license jurisdiction_names instant_bookable  \\\n",
       "0                f      NaN         WASHINGTON                f   \n",
       "1                f      NaN         WASHINGTON                f   \n",
       "2                f      NaN         WASHINGTON                f   \n",
       "3                f      NaN         WASHINGTON                f   \n",
       "4                f      NaN         WASHINGTON                f   \n",
       "\n",
       "  cancellation_policy require_guest_profile_picture  \\\n",
       "0            moderate                             f   \n",
       "1              strict                             t   \n",
       "2              strict                             f   \n",
       "3            flexible                             f   \n",
       "4              strict                             f   \n",
       "\n",
       "  require_guest_phone_verification  calculated_host_listings_count  \\\n",
       "0                                f                               2   \n",
       "1                                t                               6   \n",
       "2                                f                               2   \n",
       "3                                f                               1   \n",
       "4                                f                               1   \n",
       "\n",
       "   reviews_per_month  \n",
       "0               4.07  \n",
       "1               1.48  \n",
       "2               1.15  \n",
       "3                NaN  \n",
       "4               0.89  "
      ]
     },
     "execution_count": 20,
     "metadata": {},
     "output_type": "execute_result"
    }
   ],
   "source": [
    "listing_df.head()"
   ]
  },
  {
   "cell_type": "code",
   "execution_count": 21,
   "metadata": {},
   "outputs": [
    {
     "data": {
      "text/plain": [
       "Index(['id', 'listing_url', 'scrape_id', 'last_scraped', 'name', 'summary',\n",
       "       'space', 'description', 'experiences_offered', 'neighborhood_overview',\n",
       "       'notes', 'transit', 'thumbnail_url', 'medium_url', 'picture_url',\n",
       "       'xl_picture_url', 'host_id', 'host_url', 'host_name', 'host_since',\n",
       "       'host_location', 'host_about', 'host_response_time',\n",
       "       'host_response_rate', 'host_acceptance_rate', 'host_is_superhost',\n",
       "       'host_thumbnail_url', 'host_picture_url', 'host_neighbourhood',\n",
       "       'host_listings_count', 'host_total_listings_count',\n",
       "       'host_verifications', 'host_has_profile_pic', 'host_identity_verified',\n",
       "       'street', 'neighbourhood', 'neighbourhood_cleansed',\n",
       "       'neighbourhood_group_cleansed', 'city', 'state', 'zipcode', 'market',\n",
       "       'smart_location', 'country_code', 'country', 'latitude', 'longitude',\n",
       "       'is_location_exact', 'property_type', 'room_type', 'accommodates',\n",
       "       'bathrooms', 'bedrooms', 'beds', 'bed_type', 'amenities', 'square_feet',\n",
       "       'price', 'weekly_price', 'monthly_price', 'security_deposit',\n",
       "       'cleaning_fee', 'guests_included', 'extra_people', 'minimum_nights',\n",
       "       'maximum_nights', 'calendar_updated', 'has_availability',\n",
       "       'availability_30', 'availability_60', 'availability_90',\n",
       "       'availability_365', 'calendar_last_scraped', 'number_of_reviews',\n",
       "       'first_review', 'last_review', 'review_scores_rating',\n",
       "       'review_scores_accuracy', 'review_scores_cleanliness',\n",
       "       'review_scores_checkin', 'review_scores_communication',\n",
       "       'review_scores_location', 'review_scores_value', 'requires_license',\n",
       "       'license', 'jurisdiction_names', 'instant_bookable',\n",
       "       'cancellation_policy', 'require_guest_profile_picture',\n",
       "       'require_guest_phone_verification', 'calculated_host_listings_count',\n",
       "       'reviews_per_month'],\n",
       "      dtype='object')"
      ]
     },
     "execution_count": 21,
     "metadata": {},
     "output_type": "execute_result"
    }
   ],
   "source": [
    "listing_df.columns"
   ]
  },
  {
   "cell_type": "markdown",
   "metadata": {},
   "source": [
    "Convert dollar values into float values."
   ]
  },
  {
   "cell_type": "code",
   "execution_count": 22,
   "metadata": {},
   "outputs": [],
   "source": [
    "listing_df['price'] = priceAsFloat(listing_df['price'])\n",
    "listing_df['weekly_price'] = priceAsFloat(listing_df['weekly_price'])\n",
    "listing_df['monthly_price'] = priceAsFloat(listing_df['monthly_price'])\n",
    "listing_df['security_deposit'] = priceAsFloat(listing_df['security_deposit'])\n",
    "listing_df['cleaning_fee'] = priceAsFloat(listing_df['cleaning_fee'])\n",
    "listing_df['extra_people'] = priceAsFloat(listing_df['extra_people'])"
   ]
  },
  {
   "cell_type": "code",
   "execution_count": 23,
   "metadata": {},
   "outputs": [
    {
     "name": "stdout",
     "output_type": "stream",
     "text": [
      "number of listings: 3818\n"
     ]
    }
   ],
   "source": [
    "print('number of listings:', listing_df.shape[0])"
   ]
  },
  {
   "cell_type": "code",
   "execution_count": 24,
   "metadata": {},
   "outputs": [
    {
     "name": "stdout",
     "output_type": "stream",
     "text": [
      "Average rental price $127.98 mean rental price: $100.00\n"
     ]
    }
   ],
   "source": [
    "print('Average rental price $%.2f' % listing_df['price'].mean(), 'mean rental price: $%.2f' % listing_df['price'].median())"
   ]
  },
  {
   "cell_type": "code",
   "execution_count": 25,
   "metadata": {},
   "outputs": [
    {
     "data": {
      "text/plain": [
       "count    3818.000000\n",
       "mean      127.976166\n",
       "std        90.250022\n",
       "min        20.000000\n",
       "25%        75.000000\n",
       "50%       100.000000\n",
       "75%       150.000000\n",
       "max      1000.000000\n",
       "Name: price, dtype: float64"
      ]
     },
     "execution_count": 25,
     "metadata": {},
     "output_type": "execute_result"
    }
   ],
   "source": [
    "listing_df['price'].describe()"
   ]
  },
  {
   "cell_type": "markdown",
   "metadata": {},
   "source": [
    "Std is \\$90 that's a big spread. That means we can't relie on average price to predict similar rentals. Note that few rentals are above $150."
   ]
  },
  {
   "cell_type": "code",
   "execution_count": null,
   "metadata": {},
   "outputs": [],
   "source": []
  },
  {
   "cell_type": "markdown",
   "metadata": {},
   "source": [
    "Checking for null values and see how sparse the data is. If data we need contains missing values, we need to determine whether to impute or drop columns."
   ]
  },
  {
   "cell_type": "code",
   "execution_count": 26,
   "metadata": {
    "scrolled": true
   },
   "outputs": [
    {
     "data": {
      "text/html": [
       "<div>\n",
       "<style scoped>\n",
       "    .dataframe tbody tr th:only-of-type {\n",
       "        vertical-align: middle;\n",
       "    }\n",
       "\n",
       "    .dataframe tbody tr th {\n",
       "        vertical-align: top;\n",
       "    }\n",
       "\n",
       "    .dataframe thead th {\n",
       "        text-align: right;\n",
       "    }\n",
       "</style>\n",
       "<table border=\"1\" class=\"dataframe\">\n",
       "  <thead>\n",
       "    <tr style=\"text-align: right;\">\n",
       "      <th></th>\n",
       "      <th>col_name</th>\n",
       "      <th>sparsity</th>\n",
       "    </tr>\n",
       "  </thead>\n",
       "  <tbody>\n",
       "    <tr>\n",
       "      <th>0</th>\n",
       "      <td>id</td>\n",
       "      <td>0.000000</td>\n",
       "    </tr>\n",
       "    <tr>\n",
       "      <th>57</th>\n",
       "      <td>price</td>\n",
       "      <td>0.000000</td>\n",
       "    </tr>\n",
       "    <tr>\n",
       "      <th>55</th>\n",
       "      <td>amenities</td>\n",
       "      <td>0.000000</td>\n",
       "    </tr>\n",
       "    <tr>\n",
       "      <th>54</th>\n",
       "      <td>bed_type</td>\n",
       "      <td>0.000000</td>\n",
       "    </tr>\n",
       "    <tr>\n",
       "      <th>50</th>\n",
       "      <td>accommodates</td>\n",
       "      <td>0.000000</td>\n",
       "    </tr>\n",
       "    <tr>\n",
       "      <th>49</th>\n",
       "      <td>room_type</td>\n",
       "      <td>0.000000</td>\n",
       "    </tr>\n",
       "    <tr>\n",
       "      <th>47</th>\n",
       "      <td>is_location_exact</td>\n",
       "      <td>0.000000</td>\n",
       "    </tr>\n",
       "    <tr>\n",
       "      <th>62</th>\n",
       "      <td>guests_included</td>\n",
       "      <td>0.000000</td>\n",
       "    </tr>\n",
       "    <tr>\n",
       "      <th>46</th>\n",
       "      <td>longitude</td>\n",
       "      <td>0.000000</td>\n",
       "    </tr>\n",
       "    <tr>\n",
       "      <th>44</th>\n",
       "      <td>country</td>\n",
       "      <td>0.000000</td>\n",
       "    </tr>\n",
       "    <tr>\n",
       "      <th>43</th>\n",
       "      <td>country_code</td>\n",
       "      <td>0.000000</td>\n",
       "    </tr>\n",
       "    <tr>\n",
       "      <th>42</th>\n",
       "      <td>smart_location</td>\n",
       "      <td>0.000000</td>\n",
       "    </tr>\n",
       "    <tr>\n",
       "      <th>41</th>\n",
       "      <td>market</td>\n",
       "      <td>0.000000</td>\n",
       "    </tr>\n",
       "    <tr>\n",
       "      <th>39</th>\n",
       "      <td>state</td>\n",
       "      <td>0.000000</td>\n",
       "    </tr>\n",
       "    <tr>\n",
       "      <th>38</th>\n",
       "      <td>city</td>\n",
       "      <td>0.000000</td>\n",
       "    </tr>\n",
       "    <tr>\n",
       "      <th>90</th>\n",
       "      <td>calculated_host_listings_count</td>\n",
       "      <td>0.000000</td>\n",
       "    </tr>\n",
       "    <tr>\n",
       "      <th>37</th>\n",
       "      <td>neighbourhood_group_cleansed</td>\n",
       "      <td>0.000000</td>\n",
       "    </tr>\n",
       "    <tr>\n",
       "      <th>63</th>\n",
       "      <td>extra_people</td>\n",
       "      <td>0.000000</td>\n",
       "    </tr>\n",
       "    <tr>\n",
       "      <th>65</th>\n",
       "      <td>maximum_nights</td>\n",
       "      <td>0.000000</td>\n",
       "    </tr>\n",
       "    <tr>\n",
       "      <th>89</th>\n",
       "      <td>require_guest_phone_verification</td>\n",
       "      <td>0.000000</td>\n",
       "    </tr>\n",
       "    <tr>\n",
       "      <th>88</th>\n",
       "      <td>require_guest_profile_picture</td>\n",
       "      <td>0.000000</td>\n",
       "    </tr>\n",
       "    <tr>\n",
       "      <th>87</th>\n",
       "      <td>cancellation_policy</td>\n",
       "      <td>0.000000</td>\n",
       "    </tr>\n",
       "    <tr>\n",
       "      <th>86</th>\n",
       "      <td>instant_bookable</td>\n",
       "      <td>0.000000</td>\n",
       "    </tr>\n",
       "    <tr>\n",
       "      <th>85</th>\n",
       "      <td>jurisdiction_names</td>\n",
       "      <td>0.000000</td>\n",
       "    </tr>\n",
       "    <tr>\n",
       "      <th>83</th>\n",
       "      <td>requires_license</td>\n",
       "      <td>0.000000</td>\n",
       "    </tr>\n",
       "    <tr>\n",
       "      <th>64</th>\n",
       "      <td>minimum_nights</td>\n",
       "      <td>0.000000</td>\n",
       "    </tr>\n",
       "    <tr>\n",
       "      <th>73</th>\n",
       "      <td>number_of_reviews</td>\n",
       "      <td>0.000000</td>\n",
       "    </tr>\n",
       "    <tr>\n",
       "      <th>71</th>\n",
       "      <td>availability_365</td>\n",
       "      <td>0.000000</td>\n",
       "    </tr>\n",
       "    <tr>\n",
       "      <th>70</th>\n",
       "      <td>availability_90</td>\n",
       "      <td>0.000000</td>\n",
       "    </tr>\n",
       "    <tr>\n",
       "      <th>69</th>\n",
       "      <td>availability_60</td>\n",
       "      <td>0.000000</td>\n",
       "    </tr>\n",
       "    <tr>\n",
       "      <th>...</th>\n",
       "      <td>...</td>\n",
       "      <td>...</td>\n",
       "    </tr>\n",
       "    <tr>\n",
       "      <th>5</th>\n",
       "      <td>summary</td>\n",
       "      <td>0.046359</td>\n",
       "    </tr>\n",
       "    <tr>\n",
       "      <th>28</th>\n",
       "      <td>host_neighbourhood</td>\n",
       "      <td>0.078575</td>\n",
       "    </tr>\n",
       "    <tr>\n",
       "      <th>13</th>\n",
       "      <td>medium_url</td>\n",
       "      <td>0.083814</td>\n",
       "    </tr>\n",
       "    <tr>\n",
       "      <th>12</th>\n",
       "      <td>thumbnail_url</td>\n",
       "      <td>0.083814</td>\n",
       "    </tr>\n",
       "    <tr>\n",
       "      <th>15</th>\n",
       "      <td>xl_picture_url</td>\n",
       "      <td>0.083814</td>\n",
       "    </tr>\n",
       "    <tr>\n",
       "      <th>35</th>\n",
       "      <td>neighbourhood</td>\n",
       "      <td>0.108958</td>\n",
       "    </tr>\n",
       "    <tr>\n",
       "      <th>23</th>\n",
       "      <td>host_response_rate</td>\n",
       "      <td>0.136983</td>\n",
       "    </tr>\n",
       "    <tr>\n",
       "      <th>22</th>\n",
       "      <td>host_response_time</td>\n",
       "      <td>0.136983</td>\n",
       "    </tr>\n",
       "    <tr>\n",
       "      <th>6</th>\n",
       "      <td>space</td>\n",
       "      <td>0.149031</td>\n",
       "    </tr>\n",
       "    <tr>\n",
       "      <th>75</th>\n",
       "      <td>last_review</td>\n",
       "      <td>0.164222</td>\n",
       "    </tr>\n",
       "    <tr>\n",
       "      <th>74</th>\n",
       "      <td>first_review</td>\n",
       "      <td>0.164222</td>\n",
       "    </tr>\n",
       "    <tr>\n",
       "      <th>91</th>\n",
       "      <td>reviews_per_month</td>\n",
       "      <td>0.164222</td>\n",
       "    </tr>\n",
       "    <tr>\n",
       "      <th>76</th>\n",
       "      <td>review_scores_rating</td>\n",
       "      <td>0.169460</td>\n",
       "    </tr>\n",
       "    <tr>\n",
       "      <th>80</th>\n",
       "      <td>review_scores_communication</td>\n",
       "      <td>0.170508</td>\n",
       "    </tr>\n",
       "    <tr>\n",
       "      <th>78</th>\n",
       "      <td>review_scores_cleanliness</td>\n",
       "      <td>0.171032</td>\n",
       "    </tr>\n",
       "    <tr>\n",
       "      <th>81</th>\n",
       "      <td>review_scores_location</td>\n",
       "      <td>0.171556</td>\n",
       "    </tr>\n",
       "    <tr>\n",
       "      <th>82</th>\n",
       "      <td>review_scores_value</td>\n",
       "      <td>0.171818</td>\n",
       "    </tr>\n",
       "    <tr>\n",
       "      <th>79</th>\n",
       "      <td>review_scores_checkin</td>\n",
       "      <td>0.172342</td>\n",
       "    </tr>\n",
       "    <tr>\n",
       "      <th>77</th>\n",
       "      <td>review_scores_accuracy</td>\n",
       "      <td>0.172342</td>\n",
       "    </tr>\n",
       "    <tr>\n",
       "      <th>24</th>\n",
       "      <td>host_acceptance_rate</td>\n",
       "      <td>0.202462</td>\n",
       "    </tr>\n",
       "    <tr>\n",
       "      <th>21</th>\n",
       "      <td>host_about</td>\n",
       "      <td>0.224987</td>\n",
       "    </tr>\n",
       "    <tr>\n",
       "      <th>11</th>\n",
       "      <td>transit</td>\n",
       "      <td>0.244631</td>\n",
       "    </tr>\n",
       "    <tr>\n",
       "      <th>61</th>\n",
       "      <td>cleaning_fee</td>\n",
       "      <td>0.269775</td>\n",
       "    </tr>\n",
       "    <tr>\n",
       "      <th>9</th>\n",
       "      <td>neighborhood_overview</td>\n",
       "      <td>0.270299</td>\n",
       "    </tr>\n",
       "    <tr>\n",
       "      <th>10</th>\n",
       "      <td>notes</td>\n",
       "      <td>0.420639</td>\n",
       "    </tr>\n",
       "    <tr>\n",
       "      <th>58</th>\n",
       "      <td>weekly_price</td>\n",
       "      <td>0.473808</td>\n",
       "    </tr>\n",
       "    <tr>\n",
       "      <th>60</th>\n",
       "      <td>security_deposit</td>\n",
       "      <td>0.511262</td>\n",
       "    </tr>\n",
       "    <tr>\n",
       "      <th>59</th>\n",
       "      <td>monthly_price</td>\n",
       "      <td>0.602672</td>\n",
       "    </tr>\n",
       "    <tr>\n",
       "      <th>56</th>\n",
       "      <td>square_feet</td>\n",
       "      <td>0.974594</td>\n",
       "    </tr>\n",
       "    <tr>\n",
       "      <th>84</th>\n",
       "      <td>license</td>\n",
       "      <td>1.000000</td>\n",
       "    </tr>\n",
       "  </tbody>\n",
       "</table>\n",
       "<p>92 rows × 2 columns</p>\n",
       "</div>"
      ],
      "text/plain": [
       "                            col_name  sparsity\n",
       "0                                 id  0.000000\n",
       "57                             price  0.000000\n",
       "55                         amenities  0.000000\n",
       "54                          bed_type  0.000000\n",
       "50                      accommodates  0.000000\n",
       "49                         room_type  0.000000\n",
       "47                 is_location_exact  0.000000\n",
       "62                   guests_included  0.000000\n",
       "46                         longitude  0.000000\n",
       "44                           country  0.000000\n",
       "43                      country_code  0.000000\n",
       "42                    smart_location  0.000000\n",
       "41                            market  0.000000\n",
       "39                             state  0.000000\n",
       "38                              city  0.000000\n",
       "90    calculated_host_listings_count  0.000000\n",
       "37      neighbourhood_group_cleansed  0.000000\n",
       "63                      extra_people  0.000000\n",
       "65                    maximum_nights  0.000000\n",
       "89  require_guest_phone_verification  0.000000\n",
       "88     require_guest_profile_picture  0.000000\n",
       "87               cancellation_policy  0.000000\n",
       "86                  instant_bookable  0.000000\n",
       "85                jurisdiction_names  0.000000\n",
       "83                  requires_license  0.000000\n",
       "64                    minimum_nights  0.000000\n",
       "73                 number_of_reviews  0.000000\n",
       "71                  availability_365  0.000000\n",
       "70                   availability_90  0.000000\n",
       "69                   availability_60  0.000000\n",
       "..                               ...       ...\n",
       "5                            summary  0.046359\n",
       "28                host_neighbourhood  0.078575\n",
       "13                        medium_url  0.083814\n",
       "12                     thumbnail_url  0.083814\n",
       "15                    xl_picture_url  0.083814\n",
       "35                     neighbourhood  0.108958\n",
       "23                host_response_rate  0.136983\n",
       "22                host_response_time  0.136983\n",
       "6                              space  0.149031\n",
       "75                       last_review  0.164222\n",
       "74                      first_review  0.164222\n",
       "91                 reviews_per_month  0.164222\n",
       "76              review_scores_rating  0.169460\n",
       "80       review_scores_communication  0.170508\n",
       "78         review_scores_cleanliness  0.171032\n",
       "81            review_scores_location  0.171556\n",
       "82               review_scores_value  0.171818\n",
       "79             review_scores_checkin  0.172342\n",
       "77            review_scores_accuracy  0.172342\n",
       "24              host_acceptance_rate  0.202462\n",
       "21                        host_about  0.224987\n",
       "11                           transit  0.244631\n",
       "61                      cleaning_fee  0.269775\n",
       "9              neighborhood_overview  0.270299\n",
       "10                             notes  0.420639\n",
       "58                      weekly_price  0.473808\n",
       "60                  security_deposit  0.511262\n",
       "59                     monthly_price  0.602672\n",
       "56                       square_feet  0.974594\n",
       "84                           license  1.000000\n",
       "\n",
       "[92 rows x 2 columns]"
      ]
     },
     "execution_count": 26,
     "metadata": {},
     "output_type": "execute_result"
    }
   ],
   "source": [
    "column_sparsity_df = pd.DataFrame(listing_df.isnull().mean()).reset_index()\n",
    "column_sparsity_df.columns = ['col_name', 'sparsity']\n",
    "column_sparsity_df.sort_values('sparsity')\n"
   ]
  },
  {
   "cell_type": "code",
   "execution_count": 27,
   "metadata": {},
   "outputs": [
    {
     "data": {
      "text/plain": [
       "86"
      ]
     },
     "execution_count": 27,
     "metadata": {},
     "output_type": "execute_result"
    }
   ],
   "source": [
    "column_sparsity_df[column_sparsity_df['sparsity'] < 0.4]['col_name'].nunique()"
   ]
  },
  {
   "cell_type": "code",
   "execution_count": 28,
   "metadata": {},
   "outputs": [
    {
     "data": {
      "text/plain": [
       "['id',\n",
       " 'listing_url',\n",
       " 'scrape_id',\n",
       " 'last_scraped',\n",
       " 'name',\n",
       " 'summary',\n",
       " 'space',\n",
       " 'description',\n",
       " 'experiences_offered',\n",
       " 'neighborhood_overview',\n",
       " 'transit',\n",
       " 'thumbnail_url',\n",
       " 'medium_url',\n",
       " 'picture_url',\n",
       " 'xl_picture_url',\n",
       " 'host_id',\n",
       " 'host_url',\n",
       " 'host_name',\n",
       " 'host_since',\n",
       " 'host_location',\n",
       " 'host_about',\n",
       " 'host_response_time',\n",
       " 'host_response_rate',\n",
       " 'host_acceptance_rate',\n",
       " 'host_is_superhost',\n",
       " 'host_thumbnail_url',\n",
       " 'host_picture_url',\n",
       " 'host_neighbourhood',\n",
       " 'host_listings_count',\n",
       " 'host_total_listings_count',\n",
       " 'host_verifications',\n",
       " 'host_has_profile_pic',\n",
       " 'host_identity_verified',\n",
       " 'street',\n",
       " 'neighbourhood',\n",
       " 'neighbourhood_cleansed',\n",
       " 'neighbourhood_group_cleansed',\n",
       " 'city',\n",
       " 'state',\n",
       " 'zipcode',\n",
       " 'market',\n",
       " 'smart_location',\n",
       " 'country_code',\n",
       " 'country',\n",
       " 'latitude',\n",
       " 'longitude',\n",
       " 'is_location_exact',\n",
       " 'property_type',\n",
       " 'room_type',\n",
       " 'accommodates',\n",
       " 'bathrooms',\n",
       " 'bedrooms',\n",
       " 'beds',\n",
       " 'bed_type',\n",
       " 'amenities',\n",
       " 'price',\n",
       " 'cleaning_fee',\n",
       " 'guests_included',\n",
       " 'extra_people',\n",
       " 'minimum_nights',\n",
       " 'maximum_nights',\n",
       " 'calendar_updated',\n",
       " 'has_availability',\n",
       " 'availability_30',\n",
       " 'availability_60',\n",
       " 'availability_90',\n",
       " 'availability_365',\n",
       " 'calendar_last_scraped',\n",
       " 'number_of_reviews',\n",
       " 'first_review',\n",
       " 'last_review',\n",
       " 'review_scores_rating',\n",
       " 'review_scores_accuracy',\n",
       " 'review_scores_cleanliness',\n",
       " 'review_scores_checkin',\n",
       " 'review_scores_communication',\n",
       " 'review_scores_location',\n",
       " 'review_scores_value',\n",
       " 'requires_license',\n",
       " 'jurisdiction_names',\n",
       " 'instant_bookable',\n",
       " 'cancellation_policy',\n",
       " 'require_guest_profile_picture',\n",
       " 'require_guest_phone_verification',\n",
       " 'calculated_host_listings_count',\n",
       " 'reviews_per_month']"
      ]
     },
     "execution_count": 28,
     "metadata": {},
     "output_type": "execute_result"
    }
   ],
   "source": [
    "column_sparsity_df[column_sparsity_df['sparsity'] < 0.4]['col_name'].tolist()"
   ]
  },
  {
   "cell_type": "markdown",
   "metadata": {},
   "source": [
    "It doesn't look like the columns we're interested in, the review_scores columns, only have few null values. "
   ]
  },
  {
   "cell_type": "markdown",
   "metadata": {
    "collapsed": true
   },
   "source": [
    "There are only few features related to review scores. To see what factors drive the overall rating, we can compute the correlation of each feature to the overall rating."
   ]
  },
  {
   "cell_type": "code",
   "execution_count": 29,
   "metadata": {},
   "outputs": [],
   "source": [
    "ratings_df = listing_df[['review_scores_rating',\n",
    "'review_scores_accuracy',\n",
    "'review_scores_cleanliness',\n",
    "'review_scores_checkin',\n",
    "'review_scores_communication',\n",
    "'review_scores_value',\n",
    "]]"
   ]
  },
  {
   "cell_type": "code",
   "execution_count": 30,
   "metadata": {},
   "outputs": [
    {
     "data": {
      "text/html": [
       "<div>\n",
       "<style scoped>\n",
       "    .dataframe tbody tr th:only-of-type {\n",
       "        vertical-align: middle;\n",
       "    }\n",
       "\n",
       "    .dataframe tbody tr th {\n",
       "        vertical-align: top;\n",
       "    }\n",
       "\n",
       "    .dataframe thead th {\n",
       "        text-align: right;\n",
       "    }\n",
       "</style>\n",
       "<table border=\"1\" class=\"dataframe\">\n",
       "  <thead>\n",
       "    <tr style=\"text-align: right;\">\n",
       "      <th></th>\n",
       "      <th>review_scores_rating</th>\n",
       "      <th>review_scores_accuracy</th>\n",
       "      <th>review_scores_cleanliness</th>\n",
       "      <th>review_scores_checkin</th>\n",
       "      <th>review_scores_communication</th>\n",
       "      <th>review_scores_value</th>\n",
       "    </tr>\n",
       "  </thead>\n",
       "  <tbody>\n",
       "    <tr>\n",
       "      <th>count</th>\n",
       "      <td>3171.000000</td>\n",
       "      <td>3160.000000</td>\n",
       "      <td>3165.000000</td>\n",
       "      <td>3160.000000</td>\n",
       "      <td>3167.000000</td>\n",
       "      <td>3162.000000</td>\n",
       "    </tr>\n",
       "    <tr>\n",
       "      <th>mean</th>\n",
       "      <td>94.539262</td>\n",
       "      <td>9.636392</td>\n",
       "      <td>9.556398</td>\n",
       "      <td>9.786709</td>\n",
       "      <td>9.809599</td>\n",
       "      <td>9.452245</td>\n",
       "    </tr>\n",
       "    <tr>\n",
       "      <th>std</th>\n",
       "      <td>6.606083</td>\n",
       "      <td>0.698031</td>\n",
       "      <td>0.797274</td>\n",
       "      <td>0.595499</td>\n",
       "      <td>0.568211</td>\n",
       "      <td>0.750259</td>\n",
       "    </tr>\n",
       "    <tr>\n",
       "      <th>min</th>\n",
       "      <td>20.000000</td>\n",
       "      <td>2.000000</td>\n",
       "      <td>3.000000</td>\n",
       "      <td>2.000000</td>\n",
       "      <td>2.000000</td>\n",
       "      <td>2.000000</td>\n",
       "    </tr>\n",
       "    <tr>\n",
       "      <th>25%</th>\n",
       "      <td>93.000000</td>\n",
       "      <td>9.000000</td>\n",
       "      <td>9.000000</td>\n",
       "      <td>10.000000</td>\n",
       "      <td>10.000000</td>\n",
       "      <td>9.000000</td>\n",
       "    </tr>\n",
       "    <tr>\n",
       "      <th>50%</th>\n",
       "      <td>96.000000</td>\n",
       "      <td>10.000000</td>\n",
       "      <td>10.000000</td>\n",
       "      <td>10.000000</td>\n",
       "      <td>10.000000</td>\n",
       "      <td>10.000000</td>\n",
       "    </tr>\n",
       "    <tr>\n",
       "      <th>75%</th>\n",
       "      <td>99.000000</td>\n",
       "      <td>10.000000</td>\n",
       "      <td>10.000000</td>\n",
       "      <td>10.000000</td>\n",
       "      <td>10.000000</td>\n",
       "      <td>10.000000</td>\n",
       "    </tr>\n",
       "    <tr>\n",
       "      <th>max</th>\n",
       "      <td>100.000000</td>\n",
       "      <td>10.000000</td>\n",
       "      <td>10.000000</td>\n",
       "      <td>10.000000</td>\n",
       "      <td>10.000000</td>\n",
       "      <td>10.000000</td>\n",
       "    </tr>\n",
       "  </tbody>\n",
       "</table>\n",
       "</div>"
      ],
      "text/plain": [
       "       review_scores_rating  review_scores_accuracy  \\\n",
       "count           3171.000000             3160.000000   \n",
       "mean              94.539262                9.636392   \n",
       "std                6.606083                0.698031   \n",
       "min               20.000000                2.000000   \n",
       "25%               93.000000                9.000000   \n",
       "50%               96.000000               10.000000   \n",
       "75%               99.000000               10.000000   \n",
       "max              100.000000               10.000000   \n",
       "\n",
       "       review_scores_cleanliness  review_scores_checkin  \\\n",
       "count                3165.000000            3160.000000   \n",
       "mean                    9.556398               9.786709   \n",
       "std                     0.797274               0.595499   \n",
       "min                     3.000000               2.000000   \n",
       "25%                     9.000000              10.000000   \n",
       "50%                    10.000000              10.000000   \n",
       "75%                    10.000000              10.000000   \n",
       "max                    10.000000              10.000000   \n",
       "\n",
       "       review_scores_communication  review_scores_value  \n",
       "count                  3167.000000          3162.000000  \n",
       "mean                      9.809599             9.452245  \n",
       "std                       0.568211             0.750259  \n",
       "min                       2.000000             2.000000  \n",
       "25%                      10.000000             9.000000  \n",
       "50%                      10.000000            10.000000  \n",
       "75%                      10.000000            10.000000  \n",
       "max                      10.000000            10.000000  "
      ]
     },
     "execution_count": 30,
     "metadata": {},
     "output_type": "execute_result"
    }
   ],
   "source": [
    "ratings_df.describe()"
   ]
  },
  {
   "cell_type": "code",
   "execution_count": 76,
   "metadata": {},
   "outputs": [
    {
     "data": {
      "text/plain": [
       "review_scores_rating           0.169460\n",
       "review_scores_accuracy         0.172342\n",
       "review_scores_cleanliness      0.171032\n",
       "review_scores_checkin          0.172342\n",
       "review_scores_communication    0.170508\n",
       "review_scores_value            0.171818\n",
       "dtype: float64"
      ]
     },
     "execution_count": 76,
     "metadata": {},
     "output_type": "execute_result"
    }
   ],
   "source": [
    "ratings_df.isnull().mean()"
   ]
  },
  {
   "cell_type": "markdown",
   "metadata": {},
   "source": [
    "There are some values that are missing. Their quantiles suggest that they do not have a lot of variation, but let's see why they are missing."
   ]
  },
  {
   "cell_type": "code",
   "execution_count": 82,
   "metadata": {},
   "outputs": [
    {
     "data": {
      "text/html": [
       "<div>\n",
       "<style scoped>\n",
       "    .dataframe tbody tr th:only-of-type {\n",
       "        vertical-align: middle;\n",
       "    }\n",
       "\n",
       "    .dataframe tbody tr th {\n",
       "        vertical-align: top;\n",
       "    }\n",
       "\n",
       "    .dataframe thead th {\n",
       "        text-align: right;\n",
       "    }\n",
       "</style>\n",
       "<table border=\"1\" class=\"dataframe\">\n",
       "  <thead>\n",
       "    <tr style=\"text-align: right;\">\n",
       "      <th></th>\n",
       "      <th>review_scores_rating</th>\n",
       "      <th>review_scores_accuracy</th>\n",
       "      <th>review_scores_cleanliness</th>\n",
       "      <th>review_scores_checkin</th>\n",
       "      <th>review_scores_communication</th>\n",
       "      <th>review_scores_value</th>\n",
       "    </tr>\n",
       "  </thead>\n",
       "  <tbody>\n",
       "    <tr>\n",
       "      <th>0</th>\n",
       "      <td>95.0</td>\n",
       "      <td>10.0</td>\n",
       "      <td>10.0</td>\n",
       "      <td>10.0</td>\n",
       "      <td>10.0</td>\n",
       "      <td>10.0</td>\n",
       "    </tr>\n",
       "    <tr>\n",
       "      <th>1</th>\n",
       "      <td>96.0</td>\n",
       "      <td>10.0</td>\n",
       "      <td>10.0</td>\n",
       "      <td>10.0</td>\n",
       "      <td>10.0</td>\n",
       "      <td>10.0</td>\n",
       "    </tr>\n",
       "    <tr>\n",
       "      <th>2</th>\n",
       "      <td>97.0</td>\n",
       "      <td>10.0</td>\n",
       "      <td>10.0</td>\n",
       "      <td>10.0</td>\n",
       "      <td>10.0</td>\n",
       "      <td>10.0</td>\n",
       "    </tr>\n",
       "    <tr>\n",
       "      <th>3</th>\n",
       "      <td>NaN</td>\n",
       "      <td>NaN</td>\n",
       "      <td>NaN</td>\n",
       "      <td>NaN</td>\n",
       "      <td>NaN</td>\n",
       "      <td>NaN</td>\n",
       "    </tr>\n",
       "    <tr>\n",
       "      <th>4</th>\n",
       "      <td>92.0</td>\n",
       "      <td>9.0</td>\n",
       "      <td>9.0</td>\n",
       "      <td>10.0</td>\n",
       "      <td>10.0</td>\n",
       "      <td>9.0</td>\n",
       "    </tr>\n",
       "    <tr>\n",
       "      <th>5</th>\n",
       "      <td>95.0</td>\n",
       "      <td>10.0</td>\n",
       "      <td>10.0</td>\n",
       "      <td>10.0</td>\n",
       "      <td>10.0</td>\n",
       "      <td>10.0</td>\n",
       "    </tr>\n",
       "    <tr>\n",
       "      <th>6</th>\n",
       "      <td>99.0</td>\n",
       "      <td>10.0</td>\n",
       "      <td>10.0</td>\n",
       "      <td>10.0</td>\n",
       "      <td>10.0</td>\n",
       "      <td>10.0</td>\n",
       "    </tr>\n",
       "    <tr>\n",
       "      <th>7</th>\n",
       "      <td>97.0</td>\n",
       "      <td>10.0</td>\n",
       "      <td>10.0</td>\n",
       "      <td>10.0</td>\n",
       "      <td>10.0</td>\n",
       "      <td>10.0</td>\n",
       "    </tr>\n",
       "    <tr>\n",
       "      <th>8</th>\n",
       "      <td>97.0</td>\n",
       "      <td>10.0</td>\n",
       "      <td>9.0</td>\n",
       "      <td>10.0</td>\n",
       "      <td>9.0</td>\n",
       "      <td>10.0</td>\n",
       "    </tr>\n",
       "    <tr>\n",
       "      <th>9</th>\n",
       "      <td>97.0</td>\n",
       "      <td>10.0</td>\n",
       "      <td>10.0</td>\n",
       "      <td>10.0</td>\n",
       "      <td>10.0</td>\n",
       "      <td>9.0</td>\n",
       "    </tr>\n",
       "  </tbody>\n",
       "</table>\n",
       "</div>"
      ],
      "text/plain": [
       "   review_scores_rating  review_scores_accuracy  review_scores_cleanliness  \\\n",
       "0                  95.0                    10.0                       10.0   \n",
       "1                  96.0                    10.0                       10.0   \n",
       "2                  97.0                    10.0                       10.0   \n",
       "3                   NaN                     NaN                        NaN   \n",
       "4                  92.0                     9.0                        9.0   \n",
       "5                  95.0                    10.0                       10.0   \n",
       "6                  99.0                    10.0                       10.0   \n",
       "7                  97.0                    10.0                       10.0   \n",
       "8                  97.0                    10.0                        9.0   \n",
       "9                  97.0                    10.0                       10.0   \n",
       "\n",
       "   review_scores_checkin  review_scores_communication  review_scores_value  \n",
       "0                   10.0                         10.0                 10.0  \n",
       "1                   10.0                         10.0                 10.0  \n",
       "2                   10.0                         10.0                 10.0  \n",
       "3                    NaN                          NaN                  NaN  \n",
       "4                   10.0                         10.0                  9.0  \n",
       "5                   10.0                         10.0                 10.0  \n",
       "6                   10.0                         10.0                 10.0  \n",
       "7                   10.0                         10.0                 10.0  \n",
       "8                   10.0                          9.0                 10.0  \n",
       "9                   10.0                         10.0                  9.0  "
      ]
     },
     "execution_count": 82,
     "metadata": {},
     "output_type": "execute_result"
    }
   ],
   "source": [
    "ratings_df.head(10)"
   ]
  },
  {
   "cell_type": "markdown",
   "metadata": {},
   "source": [
    "So it seems that the rows with null ratings are the ones that don't have them. Since there a few rows with null ratings and the data is dense, we can drop null values."
   ]
  },
  {
   "cell_type": "code",
   "execution_count": 83,
   "metadata": {},
   "outputs": [
    {
     "name": "stderr",
     "output_type": "stream",
     "text": [
      "C:\\Users\\Kenny\\Anaconda3\\lib\\site-packages\\ipykernel_launcher.py:1: SettingWithCopyWarning: \n",
      "A value is trying to be set on a copy of a slice from a DataFrame\n",
      "\n",
      "See the caveats in the documentation: http://pandas.pydata.org/pandas-docs/stable/indexing.html#indexing-view-versus-copy\n",
      "  \"\"\"Entry point for launching an IPython kernel.\n"
     ]
    }
   ],
   "source": [
    "ratings_df.dropna(inplace=True)"
   ]
  },
  {
   "cell_type": "code",
   "execution_count": 84,
   "metadata": {},
   "outputs": [
    {
     "data": {
      "text/html": [
       "<div>\n",
       "<style scoped>\n",
       "    .dataframe tbody tr th:only-of-type {\n",
       "        vertical-align: middle;\n",
       "    }\n",
       "\n",
       "    .dataframe tbody tr th {\n",
       "        vertical-align: top;\n",
       "    }\n",
       "\n",
       "    .dataframe thead th {\n",
       "        text-align: right;\n",
       "    }\n",
       "</style>\n",
       "<table border=\"1\" class=\"dataframe\">\n",
       "  <thead>\n",
       "    <tr style=\"text-align: right;\">\n",
       "      <th></th>\n",
       "      <th>review_scores_rating</th>\n",
       "      <th>review_scores_accuracy</th>\n",
       "      <th>review_scores_cleanliness</th>\n",
       "      <th>review_scores_checkin</th>\n",
       "      <th>review_scores_communication</th>\n",
       "      <th>review_scores_value</th>\n",
       "    </tr>\n",
       "  </thead>\n",
       "  <tbody>\n",
       "    <tr>\n",
       "      <th>review_scores_rating</th>\n",
       "      <td>1.000000</td>\n",
       "      <td>0.622438</td>\n",
       "      <td>0.642380</td>\n",
       "      <td>0.521914</td>\n",
       "      <td>0.543626</td>\n",
       "      <td>0.696288</td>\n",
       "    </tr>\n",
       "    <tr>\n",
       "      <th>review_scores_accuracy</th>\n",
       "      <td>0.622438</td>\n",
       "      <td>1.000000</td>\n",
       "      <td>0.544217</td>\n",
       "      <td>0.407205</td>\n",
       "      <td>0.423786</td>\n",
       "      <td>0.563959</td>\n",
       "    </tr>\n",
       "    <tr>\n",
       "      <th>review_scores_cleanliness</th>\n",
       "      <td>0.642380</td>\n",
       "      <td>0.544217</td>\n",
       "      <td>1.000000</td>\n",
       "      <td>0.398625</td>\n",
       "      <td>0.388338</td>\n",
       "      <td>0.524236</td>\n",
       "    </tr>\n",
       "    <tr>\n",
       "      <th>review_scores_checkin</th>\n",
       "      <td>0.521914</td>\n",
       "      <td>0.407205</td>\n",
       "      <td>0.398625</td>\n",
       "      <td>1.000000</td>\n",
       "      <td>0.696322</td>\n",
       "      <td>0.403223</td>\n",
       "    </tr>\n",
       "    <tr>\n",
       "      <th>review_scores_communication</th>\n",
       "      <td>0.543626</td>\n",
       "      <td>0.423786</td>\n",
       "      <td>0.388338</td>\n",
       "      <td>0.696322</td>\n",
       "      <td>1.000000</td>\n",
       "      <td>0.464171</td>\n",
       "    </tr>\n",
       "    <tr>\n",
       "      <th>review_scores_value</th>\n",
       "      <td>0.696288</td>\n",
       "      <td>0.563959</td>\n",
       "      <td>0.524236</td>\n",
       "      <td>0.403223</td>\n",
       "      <td>0.464171</td>\n",
       "      <td>1.000000</td>\n",
       "    </tr>\n",
       "  </tbody>\n",
       "</table>\n",
       "</div>"
      ],
      "text/plain": [
       "                             review_scores_rating  review_scores_accuracy  \\\n",
       "review_scores_rating                     1.000000                0.622438   \n",
       "review_scores_accuracy                   0.622438                1.000000   \n",
       "review_scores_cleanliness                0.642380                0.544217   \n",
       "review_scores_checkin                    0.521914                0.407205   \n",
       "review_scores_communication              0.543626                0.423786   \n",
       "review_scores_value                      0.696288                0.563959   \n",
       "\n",
       "                             review_scores_cleanliness  review_scores_checkin  \\\n",
       "review_scores_rating                          0.642380               0.521914   \n",
       "review_scores_accuracy                        0.544217               0.407205   \n",
       "review_scores_cleanliness                     1.000000               0.398625   \n",
       "review_scores_checkin                         0.398625               1.000000   \n",
       "review_scores_communication                   0.388338               0.696322   \n",
       "review_scores_value                           0.524236               0.403223   \n",
       "\n",
       "                             review_scores_communication  review_scores_value  \n",
       "review_scores_rating                            0.543626             0.696288  \n",
       "review_scores_accuracy                          0.423786             0.563959  \n",
       "review_scores_cleanliness                       0.388338             0.524236  \n",
       "review_scores_checkin                           0.696322             0.403223  \n",
       "review_scores_communication                     1.000000             0.464171  \n",
       "review_scores_value                             0.464171             1.000000  "
      ]
     },
     "execution_count": 84,
     "metadata": {},
     "output_type": "execute_result"
    }
   ],
   "source": [
    "ratings_df.corr()"
   ]
  },
  {
   "cell_type": "code",
   "execution_count": 327,
   "metadata": {},
   "outputs": [
    {
     "data": {
      "image/png": "[encoded data removed]",
      "text/plain": [
       "<Figure size 432x288 with 2 Axes>"
      ]
     },
     "metadata": {},
     "output_type": "display_data"
    }
   ],
   "source": [
    "plotCorrelationMatrix(ratings_df)"
   ]
  },
  {
   "cell_type": "markdown",
   "metadata": {},
   "source": [
    "Highest correlation to rating are `value` and `cleanliness`.\n",
    "Hosts should make it a priority to make sure the place is clean and provide as much value as possible."
   ]
  },
  {
   "cell_type": "markdown",
   "metadata": {},
   "source": [
    "I'm curious to see what value correspond to value here. My guess is it's related to amenities. Let's parse the `amenities` column and find out. We'll need to one-hot encode each amenity value and see if there is any of them that correlates to rating."
   ]
  },
  {
   "cell_type": "code",
   "execution_count": 314,
   "metadata": {},
   "outputs": [],
   "source": [
    "amentity_value_df = listing_df[['amenities', 'review_scores_value']]\n",
    "cleansed_amenity_values = amentity_value_df['amenities'].replace('[{}\\\"]', '', regex=True).str"
   ]
  },
  {
   "cell_type": "code",
   "execution_count": 315,
   "metadata": {},
   "outputs": [],
   "source": [
    "from collections import Counter\n",
    "counts = cleansed_amenity_values.split(',').map(Counter).sum()"
   ]
  },
  {
   "cell_type": "code",
   "execution_count": 316,
   "metadata": {},
   "outputs": [
    {
     "data": {
      "text/plain": [
       "dict_keys(['TV', 'Cable TV', 'Internet', 'Wireless Internet', 'Air Conditioning', 'Kitchen', 'Heating', 'Family/Kid Friendly', 'Washer', 'Dryer', 'Free Parking on Premises', 'Buzzer/Wireless Intercom', 'Smoke Detector', 'Carbon Monoxide Detector', 'First Aid Kit', 'Safety Card', 'Fire Extinguisher', 'Essentials', 'Pets Allowed', 'Pets live on this property', 'Dog(s)', 'Cat(s)', 'Hot Tub', 'Indoor Fireplace', 'Shampoo', 'Breakfast', '24-Hour Check-in', 'Hangers', 'Hair Dryer', 'Iron', 'Laptop Friendly Workspace', 'Suitable for Events', 'Elevator in Building', 'Lock on Bedroom Door', 'Wheelchair Accessible', 'Gym', '', 'Pool', 'Smoking Allowed', 'Other pet(s)', 'Doorman', 'Washer / Dryer'])"
      ]
     },
     "execution_count": 316,
     "metadata": {},
     "output_type": "execute_result"
    }
   ],
   "source": [
    "counts.keys()"
   ]
  },
  {
   "cell_type": "code",
   "execution_count": 317,
   "metadata": {},
   "outputs": [],
   "source": [
    "amenity_dummies = cleansed_amenity_values.get_dummies(sep=',')"
   ]
  },
  {
   "cell_type": "code",
   "execution_count": 318,
   "metadata": {},
   "outputs": [],
   "source": [
    "amentity_value_df = pd.concat([amentity_value_df, amenity_dummies], axis=1)"
   ]
  },
  {
   "cell_type": "code",
   "execution_count": 319,
   "metadata": {},
   "outputs": [
    {
     "data": {
      "text/html": [
       "<div>\n",
       "<style scoped>\n",
       "    .dataframe tbody tr th:only-of-type {\n",
       "        vertical-align: middle;\n",
       "    }\n",
       "\n",
       "    .dataframe tbody tr th {\n",
       "        vertical-align: top;\n",
       "    }\n",
       "\n",
       "    .dataframe thead th {\n",
       "        text-align: right;\n",
       "    }\n",
       "</style>\n",
       "<table border=\"1\" class=\"dataframe\">\n",
       "  <thead>\n",
       "    <tr style=\"text-align: right;\">\n",
       "      <th></th>\n",
       "      <th>amenities</th>\n",
       "      <th>review_scores_value</th>\n",
       "      <th>24-Hour Check-in</th>\n",
       "      <th>Air Conditioning</th>\n",
       "      <th>Breakfast</th>\n",
       "      <th>Buzzer/Wireless Intercom</th>\n",
       "      <th>Cable TV</th>\n",
       "      <th>Carbon Monoxide Detector</th>\n",
       "      <th>Cat(s)</th>\n",
       "      <th>Dog(s)</th>\n",
       "      <th>Doorman</th>\n",
       "      <th>Dryer</th>\n",
       "      <th>Elevator in Building</th>\n",
       "      <th>Essentials</th>\n",
       "      <th>Family/Kid Friendly</th>\n",
       "      <th>Fire Extinguisher</th>\n",
       "      <th>First Aid Kit</th>\n",
       "      <th>Free Parking on Premises</th>\n",
       "      <th>Gym</th>\n",
       "      <th>Hair Dryer</th>\n",
       "      <th>Hangers</th>\n",
       "      <th>Heating</th>\n",
       "      <th>Hot Tub</th>\n",
       "      <th>Indoor Fireplace</th>\n",
       "      <th>Internet</th>\n",
       "      <th>Iron</th>\n",
       "      <th>Kitchen</th>\n",
       "      <th>Laptop Friendly Workspace</th>\n",
       "      <th>Lock on Bedroom Door</th>\n",
       "      <th>Other pet(s)</th>\n",
       "      <th>Pets Allowed</th>\n",
       "      <th>Pets live on this property</th>\n",
       "      <th>Pool</th>\n",
       "      <th>Safety Card</th>\n",
       "      <th>Shampoo</th>\n",
       "      <th>Smoke Detector</th>\n",
       "      <th>Smoking Allowed</th>\n",
       "      <th>Suitable for Events</th>\n",
       "      <th>TV</th>\n",
       "      <th>Washer</th>\n",
       "      <th>Washer / Dryer</th>\n",
       "      <th>Wheelchair Accessible</th>\n",
       "      <th>Wireless Internet</th>\n",
       "    </tr>\n",
       "  </thead>\n",
       "  <tbody>\n",
       "    <tr>\n",
       "      <th>0</th>\n",
       "      <td>{TV,\"Cable TV\",Internet,\"Wireless Internet\",\"Air Conditioning\",Kitchen,Heating,\"Family/Kid Friendly\",Washer,Dryer}</td>\n",
       "      <td>10.0</td>\n",
       "      <td>0</td>\n",
       "      <td>1</td>\n",
       "      <td>0</td>\n",
       "      <td>0</td>\n",
       "      <td>1</td>\n",
       "      <td>0</td>\n",
       "      <td>0</td>\n",
       "      <td>0</td>\n",
       "      <td>0</td>\n",
       "      <td>1</td>\n",
       "      <td>0</td>\n",
       "      <td>0</td>\n",
       "      <td>1</td>\n",
       "      <td>0</td>\n",
       "      <td>0</td>\n",
       "      <td>0</td>\n",
       "      <td>0</td>\n",
       "      <td>0</td>\n",
       "      <td>0</td>\n",
       "      <td>1</td>\n",
       "      <td>0</td>\n",
       "      <td>0</td>\n",
       "      <td>1</td>\n",
       "      <td>0</td>\n",
       "      <td>1</td>\n",
       "      <td>0</td>\n",
       "      <td>0</td>\n",
       "      <td>0</td>\n",
       "      <td>0</td>\n",
       "      <td>0</td>\n",
       "      <td>0</td>\n",
       "      <td>0</td>\n",
       "      <td>0</td>\n",
       "      <td>0</td>\n",
       "      <td>0</td>\n",
       "      <td>0</td>\n",
       "      <td>1</td>\n",
       "      <td>1</td>\n",
       "      <td>0</td>\n",
       "      <td>0</td>\n",
       "      <td>1</td>\n",
       "    </tr>\n",
       "    <tr>\n",
       "      <th>1</th>\n",
       "      <td>{TV,Internet,\"Wireless Internet\",Kitchen,\"Free Parking on Premises\",\"Buzzer/Wireless Intercom\",Heating,\"Family/Kid Friendly\",Washer,Dryer,\"Smoke Detector\",\"Carbon Monoxide Detector\",\"First Aid Kit\",\"Safety Card\",\"Fire Extinguisher\",Essentials}</td>\n",
       "      <td>10.0</td>\n",
       "      <td>0</td>\n",
       "      <td>0</td>\n",
       "      <td>0</td>\n",
       "      <td>1</td>\n",
       "      <td>0</td>\n",
       "      <td>1</td>\n",
       "      <td>0</td>\n",
       "      <td>0</td>\n",
       "      <td>0</td>\n",
       "      <td>1</td>\n",
       "      <td>0</td>\n",
       "      <td>1</td>\n",
       "      <td>1</td>\n",
       "      <td>1</td>\n",
       "      <td>1</td>\n",
       "      <td>1</td>\n",
       "      <td>0</td>\n",
       "      <td>0</td>\n",
       "      <td>0</td>\n",
       "      <td>1</td>\n",
       "      <td>0</td>\n",
       "      <td>0</td>\n",
       "      <td>1</td>\n",
       "      <td>0</td>\n",
       "      <td>1</td>\n",
       "      <td>0</td>\n",
       "      <td>0</td>\n",
       "      <td>0</td>\n",
       "      <td>0</td>\n",
       "      <td>0</td>\n",
       "      <td>0</td>\n",
       "      <td>1</td>\n",
       "      <td>0</td>\n",
       "      <td>1</td>\n",
       "      <td>0</td>\n",
       "      <td>0</td>\n",
       "      <td>1</td>\n",
       "      <td>1</td>\n",
       "      <td>0</td>\n",
       "      <td>0</td>\n",
       "      <td>1</td>\n",
       "    </tr>\n",
       "  </tbody>\n",
       "</table>\n",
       "</div>"
      ],
      "text/plain": [
       "                                                                                                                                                                                                                                             amenities  \\\n",
       "0                                                                                                                                   {TV,\"Cable TV\",Internet,\"Wireless Internet\",\"Air Conditioning\",Kitchen,Heating,\"Family/Kid Friendly\",Washer,Dryer}   \n",
       "1  {TV,Internet,\"Wireless Internet\",Kitchen,\"Free Parking on Premises\",\"Buzzer/Wireless Intercom\",Heating,\"Family/Kid Friendly\",Washer,Dryer,\"Smoke Detector\",\"Carbon Monoxide Detector\",\"First Aid Kit\",\"Safety Card\",\"Fire Extinguisher\",Essentials}   \n",
       "\n",
       "   review_scores_value  24-Hour Check-in  Air Conditioning  Breakfast  \\\n",
       "0                 10.0                 0                 1          0   \n",
       "1                 10.0                 0                 0          0   \n",
       "\n",
       "   Buzzer/Wireless Intercom  Cable TV  Carbon Monoxide Detector  Cat(s)  \\\n",
       "0                         0         1                         0       0   \n",
       "1                         1         0                         1       0   \n",
       "\n",
       "   Dog(s)  Doorman  Dryer  Elevator in Building  Essentials  \\\n",
       "0       0        0      1                     0           0   \n",
       "1       0        0      1                     0           1   \n",
       "\n",
       "   Family/Kid Friendly  Fire Extinguisher  First Aid Kit  \\\n",
       "0                    1                  0              0   \n",
       "1                    1                  1              1   \n",
       "\n",
       "   Free Parking on Premises  Gym  Hair Dryer  Hangers  Heating  Hot Tub  \\\n",
       "0                         0    0           0        0        1        0   \n",
       "1                         1    0           0        0        1        0   \n",
       "\n",
       "   Indoor Fireplace  Internet  Iron  Kitchen  Laptop Friendly Workspace  \\\n",
       "0                 0         1     0        1                          0   \n",
       "1                 0         1     0        1                          0   \n",
       "\n",
       "   Lock on Bedroom Door  Other pet(s)  Pets Allowed  \\\n",
       "0                     0             0             0   \n",
       "1                     0             0             0   \n",
       "\n",
       "   Pets live on this property  Pool  Safety Card  Shampoo  Smoke Detector  \\\n",
       "0                           0     0            0        0               0   \n",
       "1                           0     0            1        0               1   \n",
       "\n",
       "   Smoking Allowed  Suitable for Events  TV  Washer  Washer / Dryer  \\\n",
       "0                0                    0   1       1               0   \n",
       "1                0                    0   1       1               0   \n",
       "\n",
       "   Wheelchair Accessible  Wireless Internet  \n",
       "0                      0                  1  \n",
       "1                      0                  1  "
      ]
     },
     "execution_count": 319,
     "metadata": {},
     "output_type": "execute_result"
    }
   ],
   "source": [
    "amentity_value_df.head(2)"
   ]
  },
  {
   "cell_type": "markdown",
   "metadata": {},
   "source": [
    "Count total number of amenities "
   ]
  },
  {
   "cell_type": "code",
   "execution_count": 320,
   "metadata": {},
   "outputs": [],
   "source": [
    "amentity_value_df['amenity_count'] = cleansed_amenity_values.split(',').map(lambda x: len(x))"
   ]
  },
  {
   "cell_type": "code",
   "execution_count": 321,
   "metadata": {},
   "outputs": [
    {
     "data": {
      "text/plain": [
       "amenities                     0.000000\n",
       "review_scores_value           0.171818\n",
       "24-Hour Check-in              0.000000\n",
       "Air Conditioning              0.000000\n",
       "Breakfast                     0.000000\n",
       "Buzzer/Wireless Intercom      0.000000\n",
       "Cable TV                      0.000000\n",
       "Carbon Monoxide Detector      0.000000\n",
       "Cat(s)                        0.000000\n",
       "Dog(s)                        0.000000\n",
       "Doorman                       0.000000\n",
       "Dryer                         0.000000\n",
       "Elevator in Building          0.000000\n",
       "Essentials                    0.000000\n",
       "Family/Kid Friendly           0.000000\n",
       "Fire Extinguisher             0.000000\n",
       "First Aid Kit                 0.000000\n",
       "Free Parking on Premises      0.000000\n",
       "Gym                           0.000000\n",
       "Hair Dryer                    0.000000\n",
       "Hangers                       0.000000\n",
       "Heating                       0.000000\n",
       "Hot Tub                       0.000000\n",
       "Indoor Fireplace              0.000000\n",
       "Internet                      0.000000\n",
       "Iron                          0.000000\n",
       "Kitchen                       0.000000\n",
       "Laptop Friendly Workspace     0.000000\n",
       "Lock on Bedroom Door          0.000000\n",
       "Other pet(s)                  0.000000\n",
       "Pets Allowed                  0.000000\n",
       "Pets live on this property    0.000000\n",
       "Pool                          0.000000\n",
       "Safety Card                   0.000000\n",
       "Shampoo                       0.000000\n",
       "Smoke Detector                0.000000\n",
       "Smoking Allowed               0.000000\n",
       "Suitable for Events           0.000000\n",
       "TV                            0.000000\n",
       "Washer                        0.000000\n",
       "Washer / Dryer                0.000000\n",
       "Wheelchair Accessible         0.000000\n",
       "Wireless Internet             0.000000\n",
       "amenity_count                 0.000000\n",
       "dtype: float64"
      ]
     },
     "execution_count": 321,
     "metadata": {},
     "output_type": "execute_result"
    }
   ],
   "source": [
    "amentity_value_df.isnull().mean()"
   ]
  },
  {
   "cell_type": "code",
   "execution_count": 322,
   "metadata": {},
   "outputs": [
    {
     "data": {
      "text/plain": [
       "Elevator in Building         -0.070036\n",
       "Buzzer/Wireless Intercom     -0.054980\n",
       "Gym                          -0.039458\n",
       "Pool                         -0.036289\n",
       "Suitable for Events          -0.036046\n",
       "Washer / Dryer               -0.034434\n",
       "Washer                       -0.028940\n",
       "Kitchen                      -0.026659\n",
       "Hot Tub                      -0.026492\n",
       "Dryer                        -0.023942\n",
       "Family/Kid Friendly          -0.023092\n",
       "Wheelchair Accessible        -0.016861\n",
       "Pets Allowed                 -0.016830\n",
       "Internet                     -0.009472\n",
       "Smoking Allowed              -0.005094\n",
       "Cable TV                      0.004948\n",
       "Other pet(s)                  0.005655\n",
       "Doorman                       0.006531\n",
       "Air Conditioning              0.010850\n",
       "Heating                       0.015374\n",
       "Iron                          0.017524\n",
       "Hangers                       0.023803\n",
       "24-Hour Check-in              0.026066\n",
       "Hair Dryer                    0.027650\n",
       "Lock on Bedroom Door          0.036226\n",
       "TV                            0.037427\n",
       "Laptop Friendly Workspace     0.039607\n",
       "Wireless Internet             0.050824\n",
       "Indoor Fireplace              0.053498\n",
       "Safety Card                   0.055315\n",
       "Essentials                    0.058002\n",
       "Dog(s)                        0.060311\n",
       "Smoke Detector                0.065301\n",
       "Breakfast                     0.065616\n",
       "amenity_count                 0.081817\n",
       "Cat(s)                        0.081938\n",
       "Carbon Monoxide Detector      0.086326\n",
       "Fire Extinguisher             0.088228\n",
       "Shampoo                       0.093584\n",
       "First Aid Kit                 0.101641\n",
       "Free Parking on Premises      0.104606\n",
       "Pets live on this property    0.105870\n",
       "review_scores_value           1.000000\n",
       "Name: review_scores_value, dtype: float64"
      ]
     },
     "execution_count": 322,
     "metadata": {},
     "output_type": "execute_result"
    }
   ],
   "source": [
    "amentity_value_df.corr()['review_scores_value'].sort_values()"
   ]
  },
  {
   "cell_type": "markdown",
   "metadata": {},
   "source": [
    "It doesn't look like amenities are correlated to the score for value."
   ]
  },
  {
   "cell_type": "code",
   "execution_count": null,
   "metadata": {},
   "outputs": [],
   "source": []
  },
  {
   "cell_type": "markdown",
   "metadata": {},
   "source": [
    "# What factors affect price?"
   ]
  },
  {
   "cell_type": "code",
   "execution_count": 259,
   "metadata": {},
   "outputs": [],
   "source": [
    "# Choosing our predictors\n",
    "price_df = listing_df[['neighbourhood_cleansed',\n",
    "'zipcode',\n",
    "'property_type',\n",
    "'room_type',\n",
    "'accommodates',\n",
    "'bathrooms',\n",
    "'bedrooms',\n",
    "'minimum_nights',\n",
    "'price'\n",
    "]]"
   ]
  },
  {
   "cell_type": "code",
   "execution_count": 260,
   "metadata": {},
   "outputs": [
    {
     "name": "stderr",
     "output_type": "stream",
     "text": [
      "C:\\Users\\Kenny\\Anaconda3\\lib\\site-packages\\ipykernel_launcher.py:1: SettingWithCopyWarning: \n",
      "A value is trying to be set on a copy of a slice from a DataFrame\n",
      "\n",
      "See the caveats in the documentation: http://pandas.pydata.org/pandas-docs/stable/indexing.html#indexing-view-versus-copy\n",
      "  \"\"\"Entry point for launching an IPython kernel.\n"
     ]
    }
   ],
   "source": [
    "price_df.drop_duplicates(inplace=True)"
   ]
  },
  {
   "cell_type": "code",
   "execution_count": 261,
   "metadata": {},
   "outputs": [
    {
     "data": {
      "text/plain": [
       "130.00938189845473"
      ]
     },
     "execution_count": 261,
     "metadata": {},
     "output_type": "execute_result"
    }
   ],
   "source": [
    "price_df['price'].mean()"
   ]
  },
  {
   "cell_type": "code",
   "execution_count": 262,
   "metadata": {},
   "outputs": [
    {
     "data": {
      "text/plain": [
       "(3624, 9)"
      ]
     },
     "execution_count": 262,
     "metadata": {},
     "output_type": "execute_result"
    }
   ],
   "source": [
    "price_df.shape"
   ]
  },
  {
   "cell_type": "code",
   "execution_count": 263,
   "metadata": {},
   "outputs": [
    {
     "data": {
      "text/plain": [
       "neighbourhood_cleansed    0.000000\n",
       "zipcode                   0.001932\n",
       "property_type             0.000276\n",
       "room_type                 0.000000\n",
       "accommodates              0.000000\n",
       "bathrooms                 0.003863\n",
       "bedrooms                  0.001656\n",
       "minimum_nights            0.000000\n",
       "price                     0.000000\n",
       "dtype: float64"
      ]
     },
     "execution_count": 263,
     "metadata": {},
     "output_type": "execute_result"
    }
   ],
   "source": [
    "price_df.isnull().mean()"
   ]
  },
  {
   "cell_type": "markdown",
   "metadata": {},
   "source": []
  },
  {
   "cell_type": "code",
   "execution_count": 264,
   "metadata": {},
   "outputs": [
    {
     "data": {
      "text/html": [
       "<div>\n",
       "<style scoped>\n",
       "    .dataframe tbody tr th:only-of-type {\n",
       "        vertical-align: middle;\n",
       "    }\n",
       "\n",
       "    .dataframe tbody tr th {\n",
       "        vertical-align: top;\n",
       "    }\n",
       "\n",
       "    .dataframe thead th {\n",
       "        text-align: right;\n",
       "    }\n",
       "</style>\n",
       "<table border=\"1\" class=\"dataframe\">\n",
       "  <thead>\n",
       "    <tr style=\"text-align: right;\">\n",
       "      <th></th>\n",
       "      <th>neighbourhood_cleansed</th>\n",
       "      <th>zipcode</th>\n",
       "      <th>property_type</th>\n",
       "      <th>room_type</th>\n",
       "      <th>accommodates</th>\n",
       "      <th>bathrooms</th>\n",
       "      <th>bedrooms</th>\n",
       "      <th>minimum_nights</th>\n",
       "      <th>price</th>\n",
       "    </tr>\n",
       "  </thead>\n",
       "  <tbody>\n",
       "    <tr>\n",
       "      <th>1242</th>\n",
       "      <td>Belltown</td>\n",
       "      <td>98121</td>\n",
       "      <td>Apartment</td>\n",
       "      <td>Entire home/apt</td>\n",
       "      <td>4</td>\n",
       "      <td>NaN</td>\n",
       "      <td>1.0</td>\n",
       "      <td>2</td>\n",
       "      <td>107.0</td>\n",
       "    </tr>\n",
       "    <tr>\n",
       "      <th>1314</th>\n",
       "      <td>Belltown</td>\n",
       "      <td>98121</td>\n",
       "      <td>Apartment</td>\n",
       "      <td>Entire home/apt</td>\n",
       "      <td>4</td>\n",
       "      <td>NaN</td>\n",
       "      <td>1.0</td>\n",
       "      <td>2</td>\n",
       "      <td>135.0</td>\n",
       "    </tr>\n",
       "    <tr>\n",
       "      <th>1357</th>\n",
       "      <td>Belltown</td>\n",
       "      <td>98121</td>\n",
       "      <td>Apartment</td>\n",
       "      <td>Entire home/apt</td>\n",
       "      <td>6</td>\n",
       "      <td>NaN</td>\n",
       "      <td>2.0</td>\n",
       "      <td>2</td>\n",
       "      <td>186.0</td>\n",
       "    </tr>\n",
       "    <tr>\n",
       "      <th>1378</th>\n",
       "      <td>Belltown</td>\n",
       "      <td>98121</td>\n",
       "      <td>Apartment</td>\n",
       "      <td>Entire home/apt</td>\n",
       "      <td>4</td>\n",
       "      <td>NaN</td>\n",
       "      <td>1.0</td>\n",
       "      <td>1</td>\n",
       "      <td>149.0</td>\n",
       "    </tr>\n",
       "    <tr>\n",
       "      <th>1961</th>\n",
       "      <td>Greenwood</td>\n",
       "      <td>98117</td>\n",
       "      <td>House</td>\n",
       "      <td>Private room</td>\n",
       "      <td>4</td>\n",
       "      <td>NaN</td>\n",
       "      <td>1.0</td>\n",
       "      <td>1</td>\n",
       "      <td>280.0</td>\n",
       "    </tr>\n",
       "  </tbody>\n",
       "</table>\n",
       "</div>"
      ],
      "text/plain": [
       "     neighbourhood_cleansed zipcode property_type        room_type  \\\n",
       "1242               Belltown   98121     Apartment  Entire home/apt   \n",
       "1314               Belltown   98121     Apartment  Entire home/apt   \n",
       "1357               Belltown   98121     Apartment  Entire home/apt   \n",
       "1378               Belltown   98121     Apartment  Entire home/apt   \n",
       "1961              Greenwood   98117         House     Private room   \n",
       "\n",
       "      accommodates  bathrooms  bedrooms  minimum_nights  price  \n",
       "1242             4        NaN       1.0               2  107.0  \n",
       "1314             4        NaN       1.0               2  135.0  \n",
       "1357             6        NaN       2.0               2  186.0  \n",
       "1378             4        NaN       1.0               1  149.0  \n",
       "1961             4        NaN       1.0               1  280.0  "
      ]
     },
     "execution_count": 264,
     "metadata": {},
     "output_type": "execute_result"
    }
   ],
   "source": [
    "price_df[price_df['bathrooms'].isna()].head(5)"
   ]
  },
  {
   "cell_type": "code",
   "execution_count": 265,
   "metadata": {},
   "outputs": [
    {
     "data": {
      "text/html": [
       "<div>\n",
       "<style scoped>\n",
       "    .dataframe tbody tr th:only-of-type {\n",
       "        vertical-align: middle;\n",
       "    }\n",
       "\n",
       "    .dataframe tbody tr th {\n",
       "        vertical-align: top;\n",
       "    }\n",
       "\n",
       "    .dataframe thead th {\n",
       "        text-align: right;\n",
       "    }\n",
       "</style>\n",
       "<table border=\"1\" class=\"dataframe\">\n",
       "  <thead>\n",
       "    <tr style=\"text-align: right;\">\n",
       "      <th></th>\n",
       "      <th>neighbourhood_cleansed</th>\n",
       "      <th>zipcode</th>\n",
       "      <th>property_type</th>\n",
       "      <th>room_type</th>\n",
       "      <th>accommodates</th>\n",
       "      <th>bathrooms</th>\n",
       "      <th>bedrooms</th>\n",
       "      <th>minimum_nights</th>\n",
       "      <th>price</th>\n",
       "    </tr>\n",
       "  </thead>\n",
       "  <tbody>\n",
       "    <tr>\n",
       "      <th>1429</th>\n",
       "      <td>Belltown</td>\n",
       "      <td>98121</td>\n",
       "      <td>Apartment</td>\n",
       "      <td>Entire home/apt</td>\n",
       "      <td>2</td>\n",
       "      <td>1.0</td>\n",
       "      <td>NaN</td>\n",
       "      <td>1</td>\n",
       "      <td>80.0</td>\n",
       "    </tr>\n",
       "    <tr>\n",
       "      <th>1492</th>\n",
       "      <td>Central Business District</td>\n",
       "      <td>98101</td>\n",
       "      <td>Apartment</td>\n",
       "      <td>Entire home/apt</td>\n",
       "      <td>6</td>\n",
       "      <td>1.0</td>\n",
       "      <td>NaN</td>\n",
       "      <td>1</td>\n",
       "      <td>200.0</td>\n",
       "    </tr>\n",
       "    <tr>\n",
       "      <th>1493</th>\n",
       "      <td>Central Business District</td>\n",
       "      <td>98101</td>\n",
       "      <td>Other</td>\n",
       "      <td>Entire home/apt</td>\n",
       "      <td>4</td>\n",
       "      <td>1.0</td>\n",
       "      <td>NaN</td>\n",
       "      <td>1</td>\n",
       "      <td>132.0</td>\n",
       "    </tr>\n",
       "    <tr>\n",
       "      <th>1853</th>\n",
       "      <td>Fairmount Park</td>\n",
       "      <td>98136</td>\n",
       "      <td>Apartment</td>\n",
       "      <td>Entire home/apt</td>\n",
       "      <td>2</td>\n",
       "      <td>1.0</td>\n",
       "      <td>NaN</td>\n",
       "      <td>2</td>\n",
       "      <td>95.0</td>\n",
       "    </tr>\n",
       "    <tr>\n",
       "      <th>2619</th>\n",
       "      <td>Broadway</td>\n",
       "      <td>98102</td>\n",
       "      <td>House</td>\n",
       "      <td>Entire home/apt</td>\n",
       "      <td>2</td>\n",
       "      <td>1.0</td>\n",
       "      <td>NaN</td>\n",
       "      <td>2</td>\n",
       "      <td>99.0</td>\n",
       "    </tr>\n",
       "  </tbody>\n",
       "</table>\n",
       "</div>"
      ],
      "text/plain": [
       "         neighbourhood_cleansed zipcode property_type        room_type  \\\n",
       "1429                   Belltown   98121     Apartment  Entire home/apt   \n",
       "1492  Central Business District   98101     Apartment  Entire home/apt   \n",
       "1493  Central Business District   98101         Other  Entire home/apt   \n",
       "1853             Fairmount Park   98136     Apartment  Entire home/apt   \n",
       "2619                   Broadway   98102         House  Entire home/apt   \n",
       "\n",
       "      accommodates  bathrooms  bedrooms  minimum_nights  price  \n",
       "1429             2        1.0       NaN               1   80.0  \n",
       "1492             6        1.0       NaN               1  200.0  \n",
       "1493             4        1.0       NaN               1  132.0  \n",
       "1853             2        1.0       NaN               2   95.0  \n",
       "2619             2        1.0       NaN               2   99.0  "
      ]
     },
     "execution_count": 265,
     "metadata": {},
     "output_type": "execute_result"
    }
   ],
   "source": [
    "price_df[price_df['bedrooms'].isna()].head(5)"
   ]
  },
  {
   "cell_type": "markdown",
   "metadata": {},
   "source": [
    "Some rows have missing values for bathrooms and bedrooms. These are numerical values that can be imputed. There aren't lot of missing values and given that values for bathrooms and bedrooms are small in range (0-8), we can safely use the average for them."
   ]
  },
  {
   "cell_type": "code",
   "execution_count": 266,
   "metadata": {},
   "outputs": [
    {
     "name": "stderr",
     "output_type": "stream",
     "text": [
      "C:\\Users\\Kenny\\Anaconda3\\lib\\site-packages\\pandas\\core\\generic.py:5430: SettingWithCopyWarning: \n",
      "A value is trying to be set on a copy of a slice from a DataFrame\n",
      "\n",
      "See the caveats in the documentation: http://pandas.pydata.org/pandas-docs/stable/indexing.html#indexing-view-versus-copy\n",
      "  self._update_inplace(new_data)\n"
     ]
    }
   ],
   "source": [
    "price_df.fillna(price_df.mean(), inplace=True)"
   ]
  },
  {
   "cell_type": "code",
   "execution_count": 267,
   "metadata": {},
   "outputs": [
    {
     "data": {
      "text/plain": [
       "count    3624.000000\n",
       "mean      130.009382\n",
       "std        91.564200\n",
       "min        20.000000\n",
       "25%        75.000000\n",
       "50%       100.000000\n",
       "75%       150.000000\n",
       "max      1000.000000\n",
       "Name: price, dtype: float64"
      ]
     },
     "execution_count": 267,
     "metadata": {},
     "output_type": "execute_result"
    }
   ],
   "source": [
    "price_df['price'].describe()"
   ]
  },
  {
   "cell_type": "code",
   "execution_count": 268,
   "metadata": {},
   "outputs": [
    {
     "data": {
      "text/plain": [
       "<matplotlib.axes._subplots.AxesSubplot at 0x1baf52335c0>"
      ]
     },
     "execution_count": 268,
     "metadata": {},
     "output_type": "execute_result"
    },
    {
     "data": {
      "image/png": "[encoded data removed]",
      "text/plain": [
       "<Figure size 432x288 with 1 Axes>"
      ]
     },
     "metadata": {},
     "output_type": "display_data"
    }
   ],
   "source": [
    "price_df['price'].plot.hist(bins=50)"
   ]
  },
  {
   "cell_type": "markdown",
   "metadata": {},
   "source": [
    "Most of the prices are in the low $100."
   ]
  },
  {
   "cell_type": "markdown",
   "metadata": {},
   "source": [
    "See how many unique values there are for each column"
   ]
  },
  {
   "cell_type": "code",
   "execution_count": 269,
   "metadata": {},
   "outputs": [
    {
     "data": {
      "text/plain": [
       "neighbourhood_cleansed     87\n",
       "zipcode                    28\n",
       "property_type              16\n",
       "room_type                   3\n",
       "accommodates               15\n",
       "bathrooms                  13\n",
       "bedrooms                    9\n",
       "minimum_nights             22\n",
       "price                     273\n",
       "dtype: int64"
      ]
     },
     "execution_count": 269,
     "metadata": {},
     "output_type": "execute_result"
    }
   ],
   "source": [
    "price_df.nunique()"
   ]
  },
  {
   "cell_type": "code",
   "execution_count": 270,
   "metadata": {},
   "outputs": [
    {
     "data": {
      "text/html": [
       "<div>\n",
       "<style scoped>\n",
       "    .dataframe tbody tr th:only-of-type {\n",
       "        vertical-align: middle;\n",
       "    }\n",
       "\n",
       "    .dataframe tbody tr th {\n",
       "        vertical-align: top;\n",
       "    }\n",
       "\n",
       "    .dataframe thead th {\n",
       "        text-align: right;\n",
       "    }\n",
       "</style>\n",
       "<table border=\"1\" class=\"dataframe\">\n",
       "  <thead>\n",
       "    <tr style=\"text-align: right;\">\n",
       "      <th></th>\n",
       "      <th>accommodates</th>\n",
       "      <th>bathrooms</th>\n",
       "      <th>bedrooms</th>\n",
       "      <th>minimum_nights</th>\n",
       "      <th>price</th>\n",
       "    </tr>\n",
       "  </thead>\n",
       "  <tbody>\n",
       "    <tr>\n",
       "      <th>count</th>\n",
       "      <td>3624.000000</td>\n",
       "      <td>3624.000000</td>\n",
       "      <td>3624.000000</td>\n",
       "      <td>3624.000000</td>\n",
       "      <td>3624.000000</td>\n",
       "    </tr>\n",
       "    <tr>\n",
       "      <th>mean</th>\n",
       "      <td>3.399283</td>\n",
       "      <td>1.266898</td>\n",
       "      <td>1.326147</td>\n",
       "      <td>2.398731</td>\n",
       "      <td>130.009382</td>\n",
       "    </tr>\n",
       "    <tr>\n",
       "      <th>std</th>\n",
       "      <td>1.994281</td>\n",
       "      <td>0.594643</td>\n",
       "      <td>0.895468</td>\n",
       "      <td>16.734659</td>\n",
       "      <td>91.564200</td>\n",
       "    </tr>\n",
       "    <tr>\n",
       "      <th>min</th>\n",
       "      <td>1.000000</td>\n",
       "      <td>0.000000</td>\n",
       "      <td>0.000000</td>\n",
       "      <td>1.000000</td>\n",
       "      <td>20.000000</td>\n",
       "    </tr>\n",
       "    <tr>\n",
       "      <th>25%</th>\n",
       "      <td>2.000000</td>\n",
       "      <td>1.000000</td>\n",
       "      <td>1.000000</td>\n",
       "      <td>1.000000</td>\n",
       "      <td>75.000000</td>\n",
       "    </tr>\n",
       "    <tr>\n",
       "      <th>50%</th>\n",
       "      <td>3.000000</td>\n",
       "      <td>1.000000</td>\n",
       "      <td>1.000000</td>\n",
       "      <td>2.000000</td>\n",
       "      <td>100.000000</td>\n",
       "    </tr>\n",
       "    <tr>\n",
       "      <th>75%</th>\n",
       "      <td>4.000000</td>\n",
       "      <td>1.000000</td>\n",
       "      <td>2.000000</td>\n",
       "      <td>2.000000</td>\n",
       "      <td>150.000000</td>\n",
       "    </tr>\n",
       "    <tr>\n",
       "      <th>max</th>\n",
       "      <td>16.000000</td>\n",
       "      <td>8.000000</td>\n",
       "      <td>7.000000</td>\n",
       "      <td>1000.000000</td>\n",
       "      <td>1000.000000</td>\n",
       "    </tr>\n",
       "  </tbody>\n",
       "</table>\n",
       "</div>"
      ],
      "text/plain": [
       "       accommodates    bathrooms     bedrooms  minimum_nights        price\n",
       "count   3624.000000  3624.000000  3624.000000     3624.000000  3624.000000\n",
       "mean       3.399283     1.266898     1.326147        2.398731   130.009382\n",
       "std        1.994281     0.594643     0.895468       16.734659    91.564200\n",
       "min        1.000000     0.000000     0.000000        1.000000    20.000000\n",
       "25%        2.000000     1.000000     1.000000        1.000000    75.000000\n",
       "50%        3.000000     1.000000     1.000000        2.000000   100.000000\n",
       "75%        4.000000     1.000000     2.000000        2.000000   150.000000\n",
       "max       16.000000     8.000000     7.000000     1000.000000  1000.000000"
      ]
     },
     "execution_count": 270,
     "metadata": {},
     "output_type": "execute_result"
    }
   ],
   "source": [
    "price_df.describe()"
   ]
  },
  {
   "cell_type": "code",
   "execution_count": 271,
   "metadata": {
    "scrolled": true
   },
   "outputs": [
    {
     "data": {
      "text/plain": [
       "price             1.000000\n",
       "accommodates      0.646535\n",
       "bedrooms          0.627650\n",
       "bathrooms         0.524963\n",
       "minimum_nights    0.016754\n",
       "Name: price, dtype: float64"
      ]
     },
     "execution_count": 271,
     "metadata": {},
     "output_type": "execute_result"
    }
   ],
   "source": [
    "price_df.corr()['price'].sort_values(ascending=False)"
   ]
  },
  {
   "cell_type": "code",
   "execution_count": 328,
   "metadata": {},
   "outputs": [
    {
     "data": {
      "image/png": "[encoded data removed]",
      "text/plain": [
       "<Figure size 432x288 with 2 Axes>"
      ]
     },
     "metadata": {},
     "output_type": "display_data"
    }
   ],
   "source": [
    "plotCorrelationMatrix(price_df)"
   ]
  },
  {
   "cell_type": "markdown",
   "metadata": {},
   "source": [
    "Accommodates and bedrooms have the strongest positive correlation to price. Let's use regressions to validate the positive correlations."
   ]
  },
  {
   "cell_type": "code",
   "execution_count": 273,
   "metadata": {},
   "outputs": [
    {
     "data": {
      "text/plain": [
       "Text(0.5,1,'Price vs Accommodates')"
      ]
     },
     "execution_count": 273,
     "metadata": {},
     "output_type": "execute_result"
    },
    {
     "data": {
      "image/png": "[encoded data removed]",
      "text/plain": [
       "<Figure size 432x288 with 1 Axes>"
      ]
     },
     "metadata": {},
     "output_type": "display_data"
    }
   ],
   "source": [
    "ax = sns.regplot(x=price_df['price'], y=price_df['accommodates'])\n",
    "ax.set_title('Price vs Accommodates')"
   ]
  },
  {
   "cell_type": "code",
   "execution_count": 274,
   "metadata": {},
   "outputs": [
    {
     "data": {
      "text/plain": [
       "Text(0.5,1,'Price vs Bedroom')"
      ]
     },
     "execution_count": 274,
     "metadata": {},
     "output_type": "execute_result"
    },
    {
     "data": {
      "image/png": "[encoded data removed]",
      "text/plain": [
       "<Figure size 432x288 with 1 Axes>"
      ]
     },
     "metadata": {},
     "output_type": "display_data"
    }
   ],
   "source": [
    "ax = sns.regplot(x=price_df['price'], y=price_df['bedrooms'])\n",
    "ax.set_title('Price vs Bedroom')"
   ]
  },
  {
   "cell_type": "code",
   "execution_count": 275,
   "metadata": {},
   "outputs": [
    {
     "data": {
      "text/plain": [
       "<seaborn.axisgrid.PairGrid at 0x1baf5e2fd30>"
      ]
     },
     "execution_count": 275,
     "metadata": {},
     "output_type": "execute_result"
    },
    {
     "data": {
      "image/png": "[encoded data removed]",
      "text/plain": [
       "<Figure size 720x720 with 20 Axes>"
      ]
     },
     "metadata": {},
     "output_type": "display_data"
    }
   ],
   "source": [
    "sns.pairplot(price_df[['price', 'accommodates', 'bedrooms', 'bathrooms']], kind='reg')\n"
   ]
  },
  {
   "cell_type": "markdown",
   "metadata": {},
   "source": [
    "The takeaway from these plots is that the more people the rental can accommodates and the more bedrooms it has, the higher the price."
   ]
  },
  {
   "cell_type": "code",
   "execution_count": null,
   "metadata": {},
   "outputs": [],
   "source": []
  },
  {
   "cell_type": "markdown",
   "metadata": {},
   "source": [
    "# How much can we list a 3b/2b home? "
   ]
  },
  {
   "cell_type": "markdown",
   "metadata": {},
   "source": [
    "In order to answer this question, let's see what the stats for properties that are 3b/2b"
   ]
  },
  {
   "cell_type": "code",
   "execution_count": 276,
   "metadata": {},
   "outputs": [
    {
     "name": "stdout",
     "output_type": "stream",
     "text": [
      "The average list price for a 3b/2b is $245.21\n"
     ]
    }
   ],
   "source": [
    "average_3b2b_prices = price_df[\n",
    "    (price_df['bathrooms']==2) & \n",
    "    (price_df['bedrooms']==3)\n",
    "]['price']\n",
    "print('The average list price for a 3b/2b is $%3.2f' % average_3b2b_prices.mean())"
   ]
  },
  {
   "cell_type": "code",
   "execution_count": 277,
   "metadata": {},
   "outputs": [
    {
     "data": {
      "text/plain": [
       "count     97.000000\n",
       "mean     245.206186\n",
       "std      115.095607\n",
       "min       65.000000\n",
       "25%      175.000000\n",
       "50%      225.000000\n",
       "75%      295.000000\n",
       "max      899.000000\n",
       "Name: price, dtype: float64"
      ]
     },
     "execution_count": 277,
     "metadata": {},
     "output_type": "execute_result"
    }
   ],
   "source": [
    "average_3b2b_prices.describe()"
   ]
  },
  {
   "cell_type": "code",
   "execution_count": 278,
   "metadata": {},
   "outputs": [
    {
     "data": {
      "text/plain": [
       "<matplotlib.axes._subplots.AxesSubplot at 0x1baf7c41a90>"
      ]
     },
     "execution_count": 278,
     "metadata": {},
     "output_type": "execute_result"
    },
    {
     "data": {
      "image/png": "[encoded data removed]",
      "text/plain": [
       "<Figure size 432x288 with 1 Axes>"
      ]
     },
     "metadata": {},
     "output_type": "display_data"
    }
   ],
   "source": [
    "average_3b2b_prices.plot(kind='hist')"
   ]
  },
  {
   "cell_type": "markdown",
   "metadata": {},
   "source": [
    "Most of 3b/2b properties are in the \\$200-\\$250 range. "
   ]
  },
  {
   "cell_type": "markdown",
   "metadata": {},
   "source": [
    "# Build a Pricing ML Model"
   ]
  },
  {
   "cell_type": "markdown",
   "metadata": {},
   "source": [
    "We'll go a step further and train RandomForestRegressor and see if we can make prediction based on the property's size and location. We have so far calculated the average price of 3b2b property. This has limited application. If we want to calculate the price for 1b1b, we'd need to do it by hand. Also, we want to consider the type of property, apartment vs house, whether or not the property is located in a good neighborhood, etc. If we have to include all these dimensions in our price calculation, it would infeasible to do by hand. Using ML has the advantage of taking this burden away from us. Once the model is learned, it can then be deployed to programmatically help hosts set custom prices for their rentals."
   ]
  },
  {
   "cell_type": "markdown",
   "metadata": {},
   "source": [
    "First, we need to one-hot encode categorical values. This process will convert category into columns and assign numerical values (binary) for each category, so that they can be passed into our ML model."
   ]
  },
  {
   "cell_type": "code",
   "execution_count": 279,
   "metadata": {},
   "outputs": [],
   "source": [
    "neighborhood_dummies = pd.get_dummies(price_df['neighbourhood_cleansed'], prefix='neighbourhood', drop_first=True)\n",
    "zipcode_dummies = pd.get_dummies(price_df['zipcode'], prefix='zipcode', drop_first=True)\n",
    "property_type_dummies = pd.get_dummies(price_df['property_type'], prefix='property_type', drop_first=True)\n",
    "room_type_dummies = pd.get_dummies(price_df['room_type'], prefix='room_type', drop_first=True)\n"
   ]
  },
  {
   "cell_type": "markdown",
   "metadata": {},
   "source": [
    "Creating features and labels for our model."
   ]
  },
  {
   "cell_type": "code",
   "execution_count": 280,
   "metadata": {},
   "outputs": [],
   "source": [
    "X = pd.concat(\n",
    "    [price_df[['accommodates', 'bathrooms', 'bedrooms', 'minimum_nights']], \n",
    "    neighborhood_dummies,\n",
    "    zipcode_dummies,\n",
    "    property_type_dummies,\n",
    "    room_type_dummies\n",
    "    ],\n",
    "    axis=1\n",
    ")\n",
    "\n",
    "y = price_df['price']"
   ]
  },
  {
   "cell_type": "code",
   "execution_count": 281,
   "metadata": {},
   "outputs": [],
   "source": [
    "from sklearn.model_selection import train_test_split"
   ]
  },
  {
   "cell_type": "code",
   "execution_count": 282,
   "metadata": {},
   "outputs": [],
   "source": [
    "X_train, X_test, y_train, y_test = train_test_split(X, y, test_size=0.2, random_state=42)"
   ]
  },
  {
   "cell_type": "code",
   "execution_count": 323,
   "metadata": {},
   "outputs": [],
   "source": [
    "def calculate_metrics(y_pred, y_test):\n",
    "    \"\"\"Calculate MAE and Accuracy of prediction given ground truth\"\"\"\n",
    "    errors = abs(y_pred - y_test)\n",
    "    mae = np.mean(errors)\n",
    "    mape = 100 * (errors / y_test)\n",
    "    accuracy = 100 - np.mean(mape)\n",
    "    return (mae, accuracy)"
   ]
  },
  {
   "cell_type": "markdown",
   "metadata": {},
   "source": [
    "Create a baseline and make the model we train outperforms it.\n",
    "The baseline is simply the average price."
   ]
  },
  {
   "cell_type": "code",
   "execution_count": 284,
   "metadata": {},
   "outputs": [],
   "source": [
    "avg = np.mean(y_test)\n",
    "baseline_pred = np.ones(y_test.shape) * avg"
   ]
  },
  {
   "cell_type": "code",
   "execution_count": 285,
   "metadata": {},
   "outputs": [
    {
     "name": "stdout",
     "output_type": "stream",
     "text": [
      "Baseline MAE: $62.35\n",
      "Baseline Accuracy: 38.4 %\n"
     ]
    }
   ],
   "source": [
    "mae, accuracy = calculate_metrics(baseline_pred, y_test)\n",
    "print('Baseline MAE: $%5.2f' % mae)\n",
    "print('Baseline Accuracy: %2.1f' % accuracy, '%')"
   ]
  },
  {
   "cell_type": "markdown",
   "metadata": {
    "collapsed": true
   },
   "source": [
    "Begin training model"
   ]
  },
  {
   "cell_type": "code",
   "execution_count": 286,
   "metadata": {},
   "outputs": [],
   "source": [
    "from sklearn.ensemble import RandomForestRegressor\n",
    "from sklearn.model_selection import GridSearchCV\n"
   ]
  },
  {
   "cell_type": "code",
   "execution_count": 287,
   "metadata": {},
   "outputs": [
    {
     "data": {
      "text/plain": [
       "RandomForestRegressor(bootstrap=True, criterion='mae', max_depth=80,\n",
       "           max_features=3, max_leaf_nodes=None, min_impurity_decrease=0.0,\n",
       "           min_impurity_split=None, min_samples_leaf=5,\n",
       "           min_samples_split=2, min_weight_fraction_leaf=0.0,\n",
       "           n_estimators=1000, n_jobs=-1, oob_score=False, random_state=0,\n",
       "           verbose=0, warm_start=False)"
      ]
     },
     "execution_count": 287,
     "metadata": {},
     "output_type": "execute_result"
    }
   ],
   "source": [
    "forest = RandomForestRegressor(\n",
    "    n_estimators=1000, \n",
    "    max_depth = 80,\n",
    "    max_features = 3,\n",
    "    min_samples_leaf = 5,\n",
    "    min_samples_split = 2,\n",
    "    n_jobs=-1, \n",
    "    random_state=0,\n",
    "    criterion='mae'\n",
    ")\n",
    "forest.fit(X_train, y_train)\n",
    "\n"
   ]
  },
  {
   "cell_type": "code",
   "execution_count": 288,
   "metadata": {},
   "outputs": [
    {
     "data": {
      "text/plain": [
       "[0.17316206591627448,\n",
       " 0.13049657580338306,\n",
       " 0.1710667434608636,\n",
       " 0.05416469116677119,\n",
       " 0.004989158217585951,\n",
       " 0.0,\n",
       " 0.0006782727295082256,\n",
       " 0.024955253216145553,\n",
       " 0.002280780899934123,\n",
       " 0.003929614859594231,\n",
       " 0.00024164613452770138,\n",
       " 0.0003499077475995458,\n",
       " 0.0008966225772393871,\n",
       " 0.0006885016730175612,\n",
       " 3.099914458003897e-05,\n",
       " 0.016855051992484424,\n",
       " 0.0019718624344831613,\n",
       " 0.0009160849113527351,\n",
       " 0.0018271311404682421,\n",
       " 0.003296437221888535,\n",
       " 0.0002619948331629739,\n",
       " 0.0009940031732489944,\n",
       " 0.00017197497246705572,\n",
       " 0.0067866777246355925,\n",
       " 0.0003828630209509101,\n",
       " 0.0005139490620442954,\n",
       " 0.001837802354388632,\n",
       " 0.0006741226254277468,\n",
       " 0.0007216095332185981,\n",
       " 0.0030232077819906723,\n",
       " 9.610162052626718e-05,\n",
       " 0.00016261007129002967,\n",
       " 0.0008822039625861751,\n",
       " 0.00020280736746626103,\n",
       " 0.0,\n",
       " 0.0,\n",
       " 1.853732230487859e-05,\n",
       " 0.0007090969623808378,\n",
       " 3.4387430428527864e-05,\n",
       " 0.0005236725197214445,\n",
       " 0.0006096808050781927,\n",
       " 0.004981251271329797,\n",
       " 0.0009412005993953645,\n",
       " 0.0006538215910109569,\n",
       " 0.0011701051214453601,\n",
       " 0.0006715812787110832,\n",
       " 0.0024658436985925593,\n",
       " 0.00031844422664557793,\n",
       " 0.00029964110230269996,\n",
       " 0.002993035445392554,\n",
       " 0.000590565743232686,\n",
       " 0.0005557813386819639,\n",
       " 0.0016466948876442081,\n",
       " 0.0005868368096687113,\n",
       " 0.0001313867467483008,\n",
       " 0.006576107564025564,\n",
       " 0.0005043995335162305,\n",
       " 0.003079199764118194,\n",
       " 0.0006515222697996821,\n",
       " 0.0031456527377315747,\n",
       " 0.00037697841576394533,\n",
       " 0.0003308716210261097,\n",
       " 0.0,\n",
       " 0.004585132171687105,\n",
       " 0.0015930889149993405,\n",
       " 0.0046211979411049636,\n",
       " 0.0029515488645125857,\n",
       " 0.0011358040689182678,\n",
       " 0.0003106294664852248,\n",
       " 0.0,\n",
       " 0.0001493833987807888,\n",
       " 0.000844289211879372,\n",
       " 0.0,\n",
       " 0.0008448016556695397,\n",
       " 0.00019396329607608228,\n",
       " 0.0,\n",
       " 0.0014276229418875418,\n",
       " 0.0010210247498123393,\n",
       " 0.0006156652294963079,\n",
       " 0.005159234292369505,\n",
       " 0.0008829338147791106,\n",
       " 9.486123077193587e-06,\n",
       " 0.0005118556379154381,\n",
       " 5.283453187699624e-05,\n",
       " 0.001745245351716076,\n",
       " 0.0004859929893958971,\n",
       " 0.005722981784373272,\n",
       " 0.00024946709749997756,\n",
       " 0.0008493037144659794,\n",
       " 0.0006979334270382488,\n",
       " 0.0011458049796736283,\n",
       " 0.0005778992654272779,\n",
       " 0.006761248827387791,\n",
       " 0.006413603985944425,\n",
       " 0.00816694883802933,\n",
       " 0.00042504961513580795,\n",
       " 0.006385593905447284,\n",
       " 0.006445235968854186,\n",
       " 0.0007864148984526055,\n",
       " 0.0022877503147992087,\n",
       " 0.0007623765660345726,\n",
       " 0.0038055745219981486,\n",
       " 0.007528936175055652,\n",
       " 0.003146259443154484,\n",
       " 0.017397180128657926,\n",
       " 0.001761788636786324,\n",
       " 0.004350676180922389,\n",
       " 0.0014835851457476396,\n",
       " 0.0029045415594401254,\n",
       " 0.0,\n",
       " 0.0010084279544714887,\n",
       " 0.0030236318804358134,\n",
       " 0.0,\n",
       " 0.0002767848674829233,\n",
       " 0.0,\n",
       " 0.00277223582386056,\n",
       " 0.0,\n",
       " 0.000646522690012605,\n",
       " 9.377470928236488e-05,\n",
       " 1.3747358196122496e-05,\n",
       " 0.00036069476013123524,\n",
       " 0.00032144137312721126,\n",
       " 0.0,\n",
       " 0.005180524200980023,\n",
       " 0.0,\n",
       " 0.019282419055714053,\n",
       " 0.00010718302821614926,\n",
       " 0.00032874908346041846,\n",
       " 0.0,\n",
       " 0.0015722717144863517,\n",
       " 0.0,\n",
       " 0.0,\n",
       " 0.1452385734384892,\n",
       " 0.03249950227108469]"
      ]
     },
     "execution_count": 288,
     "metadata": {},
     "output_type": "execute_result"
    }
   ],
   "source": [
    "forest.feature_importances_.tolist()"
   ]
  },
  {
   "cell_type": "markdown",
   "metadata": {},
   "source": [
    "The highest feature importance is 0.0077 which corresponds to `bedrooms`. This confirms our previous finding that number of bedrooms is a good predictor of price."
   ]
  },
  {
   "cell_type": "code",
   "execution_count": 289,
   "metadata": {},
   "outputs": [],
   "source": [
    "y_pred = forest.predict(X_test)"
   ]
  },
  {
   "cell_type": "code",
   "execution_count": 290,
   "metadata": {},
   "outputs": [
    {
     "name": "stdout",
     "output_type": "stream",
     "text": [
      "Initial model MAE: $46.20\n",
      "Initial model Accuracy: 63.8 %\n"
     ]
    }
   ],
   "source": [
    "# Calculate the MAE and Accuracy\n",
    "mae, accuracy = calculate_metrics(y_pred, y_test)\n",
    "print('Initial model MAE: $%5.2f' % mae)\n",
    "print('Initial model Accuracy: %2.1f' % accuracy, '%')\n"
   ]
  },
  {
   "cell_type": "code",
   "execution_count": null,
   "metadata": {},
   "outputs": [],
   "source": []
  },
  {
   "cell_type": "markdown",
   "metadata": {
    "collapsed": true
   },
   "source": [
    "### Searching for the best parameters"
   ]
  },
  {
   "cell_type": "code",
   "execution_count": 291,
   "metadata": {},
   "outputs": [],
   "source": [
    "param_grid = {\n",
    "    'criterion': ['mae'],\n",
    "    'max_depth': [100, 150, 200],\n",
    "    'max_features': [10, 15, 20],\n",
    "    'min_samples_leaf': [1, 3, 5],\n",
    "    'min_samples_split': [2, 4, 8],\n",
    "    'n_estimators': [200, 300, 500]\n",
    "}"
   ]
  },
  {
   "cell_type": "code",
   "execution_count": 292,
   "metadata": {},
   "outputs": [],
   "source": [
    "grid_search = GridSearchCV(estimator=forest,\n",
    "                          param_grid=param_grid,\n",
    "                          scoring='neg_mean_absolute_error',\n",
    "                          cv=5,\n",
    "                          n_jobs=20,\n",
    "                          verbose=3)"
   ]
  },
  {
   "cell_type": "code",
   "execution_count": 293,
   "metadata": {},
   "outputs": [
    {
     "name": "stdout",
     "output_type": "stream",
     "text": [
      "Fitting 5 folds for each of 243 candidates, totalling 1215 fits\n"
     ]
    },
    {
     "name": "stderr",
     "output_type": "stream",
     "text": [
      "[Parallel(n_jobs=20)]: Done  88 tasks      | elapsed:  7.0min\n",
      "[Parallel(n_jobs=20)]: Done 248 tasks      | elapsed: 19.2min\n",
      "[Parallel(n_jobs=20)]: Done 472 tasks      | elapsed: 38.9min\n",
      "[Parallel(n_jobs=20)]: Done 760 tasks      | elapsed: 62.6min\n",
      "[Parallel(n_jobs=20)]: Done 1112 tasks      | elapsed: 91.0min\n",
      "[Parallel(n_jobs=20)]: Done 1215 out of 1215 | elapsed: 98.4min finished\n"
     ]
    },
    {
     "data": {
      "text/plain": [
       "GridSearchCV(cv=5, error_score='raise',\n",
       "       estimator=RandomForestRegressor(bootstrap=True, criterion='mae', max_depth=80,\n",
       "           max_features=3, max_leaf_nodes=None, min_impurity_decrease=0.0,\n",
       "           min_impurity_split=None, min_samples_leaf=5,\n",
       "           min_samples_split=2, min_weight_fraction_leaf=0.0,\n",
       "           n_estimators=1000, n_jobs=-1, oob_score=False, random_state=0,\n",
       "           verbose=0, warm_start=False),\n",
       "       fit_params=None, iid=True, n_jobs=20,\n",
       "       param_grid={'criterion': ['mae'], 'max_depth': [100, 150, 200], 'max_features': [10, 15, 20], 'min_samples_leaf': [1, 3, 5], 'min_samples_split': [2, 4, 8], 'n_estimators': [200, 300, 500]},\n",
       "       pre_dispatch='2*n_jobs', refit=True, return_train_score='warn',\n",
       "       scoring='neg_mean_absolute_error', verbose=3)"
      ]
     },
     "execution_count": 293,
     "metadata": {},
     "output_type": "execute_result"
    }
   ],
   "source": [
    "grid_search.fit(X_train, y_train)"
   ]
  },
  {
   "cell_type": "code",
   "execution_count": 294,
   "metadata": {},
   "outputs": [
    {
     "data": {
      "text/plain": [
       "{'criterion': 'mae',\n",
       " 'max_depth': 100,\n",
       " 'max_features': 10,\n",
       " 'min_samples_leaf': 1,\n",
       " 'min_samples_split': 8,\n",
       " 'n_estimators': 200}"
      ]
     },
     "execution_count": 294,
     "metadata": {},
     "output_type": "execute_result"
    }
   ],
   "source": [
    "grid_search.best_params_"
   ]
  },
  {
   "cell_type": "code",
   "execution_count": 295,
   "metadata": {},
   "outputs": [],
   "source": [
    "best_forest = grid_search.best_estimator_\n"
   ]
  },
  {
   "cell_type": "code",
   "execution_count": 296,
   "metadata": {},
   "outputs": [
    {
     "name": "stdout",
     "output_type": "stream",
     "text": [
      "Best model MAE: $34.08\n",
      "Best model Accuracy: 72.4 %\n"
     ]
    }
   ],
   "source": [
    "y_pred = best_forest.predict(X_test)\n",
    "mae, accuracy = calculate_metrics(y_pred, y_test)\n",
    "print('Best model MAE: $%5.2f' % mae)\n",
    "print('Best model Accuracy: %2.1f' % accuracy, '%')\n"
   ]
  },
  {
   "cell_type": "code",
   "execution_count": null,
   "metadata": {},
   "outputs": [],
   "source": []
  },
  {
   "cell_type": "code",
   "execution_count": null,
   "metadata": {},
   "outputs": [],
   "source": []
  }
 ],
 "metadata": {
  "kernelspec": {
   "display_name": "Python 3",
   "language": "python",
   "name": "python3"
  },
  "language_info": {
   "codemirror_mode": {
    "name": "ipython",
    "version": 3
   },
   "file_extension": ".py",
   "mimetype": "text/x-python",
   "name": "python",
   "nbconvert_exporter": "python",
   "pygments_lexer": "ipython3",
   "version": "3.6.5"
  }
 },
 "nbformat": 4,
 "nbformat_minor": 2
}
